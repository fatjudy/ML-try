{
 "cells": [
  {
   "cell_type": "code",
   "execution_count": 1,
   "metadata": {},
   "outputs": [],
   "source": [
    "import pandas as pd\n",
    "import numpy as np"
   ]
  },
  {
   "cell_type": "markdown",
   "metadata": {},
   "source": [
    "# Chapter 11 Time Series"
   ]
  },
  {
   "cell_type": "markdown",
   "metadata": {},
   "source": [
    "## 11.1 Date and Time Data Types and Tools"
   ]
  },
  {
   "cell_type": "code",
   "execution_count": 2,
   "metadata": {},
   "outputs": [],
   "source": [
    "from datetime import datetime"
   ]
  },
  {
   "cell_type": "code",
   "execution_count": 5,
   "metadata": {},
   "outputs": [],
   "source": [
    "now = datetime.now()"
   ]
  },
  {
   "cell_type": "code",
   "execution_count": 6,
   "metadata": {},
   "outputs": [
    {
     "data": {
      "text/plain": [
       "(2020, 5, 21)"
      ]
     },
     "execution_count": 6,
     "metadata": {},
     "output_type": "execute_result"
    }
   ],
   "source": [
    "now.year, now.month, now.day"
   ]
  },
  {
   "cell_type": "code",
   "execution_count": 7,
   "metadata": {},
   "outputs": [],
   "source": [
    "delta = datetime(2011, 1, 7) - datetime(2008, 5, 12)"
   ]
  },
  {
   "cell_type": "code",
   "execution_count": 8,
   "metadata": {},
   "outputs": [
    {
     "data": {
      "text/plain": [
       "datetime.timedelta(days=970)"
      ]
     },
     "execution_count": 8,
     "metadata": {},
     "output_type": "execute_result"
    }
   ],
   "source": [
    "delta"
   ]
  },
  {
   "cell_type": "code",
   "execution_count": 9,
   "metadata": {},
   "outputs": [
    {
     "data": {
      "text/plain": [
       "970"
      ]
     },
     "execution_count": 9,
     "metadata": {},
     "output_type": "execute_result"
    }
   ],
   "source": [
    "delta.days"
   ]
  },
  {
   "cell_type": "code",
   "execution_count": 10,
   "metadata": {},
   "outputs": [
    {
     "data": {
      "text/plain": [
       "0"
      ]
     },
     "execution_count": 10,
     "metadata": {},
     "output_type": "execute_result"
    }
   ],
   "source": [
    "delta.seconds"
   ]
  },
  {
   "cell_type": "code",
   "execution_count": 11,
   "metadata": {},
   "outputs": [],
   "source": [
    "from datetime import timedelta"
   ]
  },
  {
   "cell_type": "code",
   "execution_count": 12,
   "metadata": {},
   "outputs": [],
   "source": [
    "start = datetime(2011, 1, 7)"
   ]
  },
  {
   "cell_type": "code",
   "execution_count": 13,
   "metadata": {},
   "outputs": [
    {
     "data": {
      "text/plain": [
       "datetime.datetime(2011, 1, 19, 0, 0)"
      ]
     },
     "execution_count": 13,
     "metadata": {},
     "output_type": "execute_result"
    }
   ],
   "source": [
    "start + timedelta(12)"
   ]
  },
  {
   "cell_type": "code",
   "execution_count": 14,
   "metadata": {},
   "outputs": [
    {
     "data": {
      "text/plain": [
       "datetime.datetime(2010, 12, 14, 0, 0)"
      ]
     },
     "execution_count": 14,
     "metadata": {},
     "output_type": "execute_result"
    }
   ],
   "source": [
    "start - 2 * timedelta(12)"
   ]
  },
  {
   "cell_type": "markdown",
   "metadata": {},
   "source": [
    "### Converting Between String and Datetime"
   ]
  },
  {
   "cell_type": "code",
   "execution_count": 16,
   "metadata": {},
   "outputs": [],
   "source": [
    "stamp = datetime(2011, 1, 3)"
   ]
  },
  {
   "cell_type": "code",
   "execution_count": 17,
   "metadata": {},
   "outputs": [
    {
     "data": {
      "text/plain": [
       "'2011-01-03 00:00:00'"
      ]
     },
     "execution_count": 17,
     "metadata": {},
     "output_type": "execute_result"
    }
   ],
   "source": [
    "str(stamp)"
   ]
  },
  {
   "cell_type": "code",
   "execution_count": 18,
   "metadata": {},
   "outputs": [
    {
     "data": {
      "text/plain": [
       "'2011-01-03'"
      ]
     },
     "execution_count": 18,
     "metadata": {},
     "output_type": "execute_result"
    }
   ],
   "source": [
    "stamp.strftime('%Y-%m-%d')"
   ]
  },
  {
   "cell_type": "code",
   "execution_count": 19,
   "metadata": {},
   "outputs": [
    {
     "data": {
      "text/plain": [
       "datetime.datetime(2011, 1, 3, 0, 0)"
      ]
     },
     "execution_count": 19,
     "metadata": {},
     "output_type": "execute_result"
    }
   ],
   "source": [
    "# From string to datetime\n",
    "value = '2011-01-03'\n",
    "datetime.strptime(value, '%Y-%m-%d')"
   ]
  },
  {
   "cell_type": "code",
   "execution_count": 20,
   "metadata": {},
   "outputs": [],
   "source": [
    "datestrs = ['7/6/2011', '8/9/2015']"
   ]
  },
  {
   "cell_type": "code",
   "execution_count": 21,
   "metadata": {},
   "outputs": [
    {
     "data": {
      "text/plain": [
       "[datetime.datetime(2011, 7, 6, 0, 0), datetime.datetime(2015, 8, 9, 0, 0)]"
      ]
     },
     "execution_count": 21,
     "metadata": {},
     "output_type": "execute_result"
    }
   ],
   "source": [
    "[datetime.strptime(x, '%m/%d/%Y') for x in datestrs]"
   ]
  },
  {
   "cell_type": "code",
   "execution_count": 22,
   "metadata": {},
   "outputs": [
    {
     "data": {
      "text/plain": [
       "datetime.datetime(1988, 5, 1, 0, 0)"
      ]
     },
     "execution_count": 22,
     "metadata": {},
     "output_type": "execute_result"
    }
   ],
   "source": [
    "datestr = 198805\n",
    "datetime.strptime(str(datestr), '%Y%m')"
   ]
  },
  {
   "cell_type": "code",
   "execution_count": 23,
   "metadata": {},
   "outputs": [],
   "source": [
    "from dateutil.parser import parse"
   ]
  },
  {
   "cell_type": "code",
   "execution_count": 24,
   "metadata": {},
   "outputs": [
    {
     "data": {
      "text/plain": [
       "datetime.datetime(1997, 1, 31, 22, 45)"
      ]
     },
     "execution_count": 24,
     "metadata": {},
     "output_type": "execute_result"
    }
   ],
   "source": [
    "parse('Jan 31, 1997 10:45 PM')"
   ]
  },
  {
   "cell_type": "code",
   "execution_count": 25,
   "metadata": {},
   "outputs": [
    {
     "data": {
      "text/plain": [
       "datetime.datetime(2011, 7, 6, 0, 0)"
      ]
     },
     "execution_count": 25,
     "metadata": {},
     "output_type": "execute_result"
    }
   ],
   "source": [
    "parse('06/07/2011', dayfirst = True)"
   ]
  },
  {
   "cell_type": "code",
   "execution_count": 26,
   "metadata": {},
   "outputs": [
    {
     "data": {
      "text/plain": [
       "datetime.datetime(2011, 6, 7, 0, 0)"
      ]
     },
     "execution_count": 26,
     "metadata": {},
     "output_type": "execute_result"
    }
   ],
   "source": [
    "parse('06/07/2011', dayfirst = False)"
   ]
  },
  {
   "cell_type": "code",
   "execution_count": 27,
   "metadata": {},
   "outputs": [],
   "source": [
    "datastrs = ['198805', '198806', '198807']"
   ]
  },
  {
   "cell_type": "code",
   "execution_count": 29,
   "metadata": {},
   "outputs": [
    {
     "data": {
      "text/plain": [
       "DatetimeIndex(['1988-05-01', '1988-06-01', '1988-07-01'], dtype='datetime64[ns]', freq=None)"
      ]
     },
     "execution_count": 29,
     "metadata": {},
     "output_type": "execute_result"
    }
   ],
   "source": [
    "pd.to_datetime(datastrs, format='%Y%m')"
   ]
  },
  {
   "cell_type": "code",
   "execution_count": 30,
   "metadata": {},
   "outputs": [],
   "source": [
    "# NaT: not a time\n",
    "idx = pd.to_datetime(datestrs + [None])"
   ]
  },
  {
   "cell_type": "code",
   "execution_count": 31,
   "metadata": {},
   "outputs": [
    {
     "data": {
      "text/plain": [
       "DatetimeIndex(['2011-07-06', '2015-08-09', 'NaT'], dtype='datetime64[ns]', freq=None)"
      ]
     },
     "execution_count": 31,
     "metadata": {},
     "output_type": "execute_result"
    }
   ],
   "source": [
    "idx"
   ]
  },
  {
   "cell_type": "markdown",
   "metadata": {},
   "source": [
    "## 11.2 Time Series Basics"
   ]
  },
  {
   "cell_type": "code",
   "execution_count": 32,
   "metadata": {},
   "outputs": [],
   "source": [
    "dates = [datetime(2011, 1, 2), datetime(2011, 1, 5),\n",
    "....: datetime(2011, 1, 7), datetime(2011, 1, 8),\n",
    "....: datetime(2011, 1, 10), datetime(2011, 1, 12)]"
   ]
  },
  {
   "cell_type": "code",
   "execution_count": 35,
   "metadata": {},
   "outputs": [],
   "source": [
    "ts = pd.Series(np.random.randn(6), index = dates)"
   ]
  },
  {
   "cell_type": "code",
   "execution_count": 36,
   "metadata": {},
   "outputs": [
    {
     "data": {
      "text/plain": [
       "2011-01-02   -0.846259\n",
       "2011-01-05   -0.518185\n",
       "2011-01-07   -2.553100\n",
       "2011-01-08   -1.264504\n",
       "2011-01-10   -1.395205\n",
       "2011-01-12   -0.528635\n",
       "dtype: float64"
      ]
     },
     "execution_count": 36,
     "metadata": {},
     "output_type": "execute_result"
    }
   ],
   "source": [
    "ts"
   ]
  },
  {
   "cell_type": "code",
   "execution_count": 37,
   "metadata": {},
   "outputs": [
    {
     "data": {
      "text/plain": [
       "DatetimeIndex(['2011-01-02', '2011-01-05', '2011-01-07', '2011-01-08',\n",
       "               '2011-01-10', '2011-01-12'],\n",
       "              dtype='datetime64[ns]', freq=None)"
      ]
     },
     "execution_count": 37,
     "metadata": {},
     "output_type": "execute_result"
    }
   ],
   "source": [
    "ts.index"
   ]
  },
  {
   "cell_type": "code",
   "execution_count": 38,
   "metadata": {},
   "outputs": [
    {
     "data": {
      "text/plain": [
       "2011-01-02   -1.692518\n",
       "2011-01-05         NaN\n",
       "2011-01-07   -5.106199\n",
       "2011-01-08         NaN\n",
       "2011-01-10   -2.790409\n",
       "2011-01-12         NaN\n",
       "dtype: float64"
      ]
     },
     "execution_count": 38,
     "metadata": {},
     "output_type": "execute_result"
    }
   ],
   "source": [
    "ts + ts[::2]"
   ]
  },
  {
   "cell_type": "code",
   "execution_count": 39,
   "metadata": {},
   "outputs": [
    {
     "data": {
      "text/plain": [
       "dtype('<M8[ns]')"
      ]
     },
     "execution_count": 39,
     "metadata": {},
     "output_type": "execute_result"
    }
   ],
   "source": [
    "ts.index.dtype"
   ]
  },
  {
   "cell_type": "markdown",
   "metadata": {},
   "source": [
    "### Indexing, Selection and Subsetting"
   ]
  },
  {
   "cell_type": "code",
   "execution_count": 40,
   "metadata": {},
   "outputs": [
    {
     "data": {
      "text/plain": [
       "Timestamp('2011-01-07 00:00:00')"
      ]
     },
     "execution_count": 40,
     "metadata": {},
     "output_type": "execute_result"
    }
   ],
   "source": [
    "stamp = ts.index[2]\n",
    "stamp"
   ]
  },
  {
   "cell_type": "code",
   "execution_count": 41,
   "metadata": {},
   "outputs": [
    {
     "data": {
      "text/plain": [
       "-2.5530995357281245"
      ]
     },
     "execution_count": 41,
     "metadata": {},
     "output_type": "execute_result"
    }
   ],
   "source": [
    "ts[stamp]"
   ]
  },
  {
   "cell_type": "code",
   "execution_count": 42,
   "metadata": {},
   "outputs": [
    {
     "data": {
      "text/plain": [
       "-2.5530995357281245"
      ]
     },
     "execution_count": 42,
     "metadata": {},
     "output_type": "execute_result"
    }
   ],
   "source": [
    "ts.loc[stamp]"
   ]
  },
  {
   "cell_type": "code",
   "execution_count": 44,
   "metadata": {},
   "outputs": [
    {
     "data": {
      "text/plain": [
       "-1.3952047430855794"
      ]
     },
     "execution_count": 44,
     "metadata": {},
     "output_type": "execute_result"
    }
   ],
   "source": [
    "ts['20110110']"
   ]
  },
  {
   "cell_type": "code",
   "execution_count": 45,
   "metadata": {},
   "outputs": [],
   "source": [
    "longer_ts = pd.Series(np.random.randn(1000), index = pd.date_range('1/1/2000', periods = 1000))"
   ]
  },
  {
   "cell_type": "code",
   "execution_count": 46,
   "metadata": {},
   "outputs": [
    {
     "data": {
      "text/plain": [
       "2000-01-01    0.856458\n",
       "2000-01-02    0.291256\n",
       "2000-01-03   -1.860559\n",
       "2000-01-04   -0.060745\n",
       "2000-01-05   -1.194434\n",
       "2000-01-06   -1.790624\n",
       "2000-01-07    0.105210\n",
       "2000-01-08   -0.500051\n",
       "2000-01-09    1.457354\n",
       "2000-01-10   -0.561977\n",
       "2000-01-11   -0.886710\n",
       "2000-01-12    0.883814\n",
       "2000-01-13   -0.482577\n",
       "2000-01-14   -0.497972\n",
       "2000-01-15    1.180046\n",
       "2000-01-16   -1.145844\n",
       "2000-01-17    0.099369\n",
       "2000-01-18    1.916549\n",
       "2000-01-19   -1.067879\n",
       "2000-01-20    2.293268\n",
       "2000-01-21    0.646777\n",
       "2000-01-22   -0.671886\n",
       "2000-01-23    2.572937\n",
       "2000-01-24    0.840454\n",
       "2000-01-25   -0.996689\n",
       "2000-01-26    1.122792\n",
       "2000-01-27   -0.727770\n",
       "2000-01-28    0.200911\n",
       "2000-01-29    2.780527\n",
       "2000-01-30   -1.354429\n",
       "                ...   \n",
       "2002-08-28   -1.237803\n",
       "2002-08-29   -0.499207\n",
       "2002-08-30    0.897604\n",
       "2002-08-31    1.515681\n",
       "2002-09-01   -0.161056\n",
       "2002-09-02    2.578172\n",
       "2002-09-03   -0.174588\n",
       "2002-09-04   -1.316413\n",
       "2002-09-05   -0.423594\n",
       "2002-09-06    0.482175\n",
       "2002-09-07   -1.466895\n",
       "2002-09-08   -0.688576\n",
       "2002-09-09    0.383386\n",
       "2002-09-10    0.138465\n",
       "2002-09-11   -1.057592\n",
       "2002-09-12    0.405987\n",
       "2002-09-13    0.399735\n",
       "2002-09-14   -0.972846\n",
       "2002-09-15   -0.458835\n",
       "2002-09-16   -0.868838\n",
       "2002-09-17    0.441410\n",
       "2002-09-18    2.725184\n",
       "2002-09-19   -0.671353\n",
       "2002-09-20   -0.633232\n",
       "2002-09-21    0.110916\n",
       "2002-09-22   -0.020791\n",
       "2002-09-23   -0.162403\n",
       "2002-09-24    0.046141\n",
       "2002-09-25   -1.155861\n",
       "2002-09-26    0.509095\n",
       "Freq: D, Length: 1000, dtype: float64"
      ]
     },
     "execution_count": 46,
     "metadata": {},
     "output_type": "execute_result"
    }
   ],
   "source": [
    "longer_ts"
   ]
  },
  {
   "cell_type": "code",
   "execution_count": 49,
   "metadata": {},
   "outputs": [
    {
     "data": {
      "text/plain": [
       "2001-05-01    0.759792\n",
       "2001-05-02   -0.090114\n",
       "2001-05-03   -1.696163\n",
       "2001-05-04   -0.770534\n",
       "2001-05-05   -0.050893\n",
       "2001-05-06    0.912144\n",
       "2001-05-07   -1.467470\n",
       "2001-05-08   -0.280198\n",
       "2001-05-09   -0.119583\n",
       "2001-05-10   -1.333486\n",
       "2001-05-11    3.531174\n",
       "2001-05-12    0.150107\n",
       "2001-05-13    0.782247\n",
       "2001-05-14    1.560931\n",
       "2001-05-15   -1.988380\n",
       "2001-05-16   -0.016793\n",
       "2001-05-17   -0.534641\n",
       "2001-05-18   -2.226201\n",
       "2001-05-19    1.612138\n",
       "2001-05-20    0.921695\n",
       "2001-05-21   -0.416528\n",
       "2001-05-22   -0.215478\n",
       "2001-05-23   -1.105145\n",
       "2001-05-24   -0.032557\n",
       "2001-05-25   -0.119048\n",
       "2001-05-26   -1.360309\n",
       "2001-05-27   -0.107559\n",
       "2001-05-28    0.419125\n",
       "2001-05-29    0.435750\n",
       "2001-05-30    0.017181\n",
       "2001-05-31    0.034357\n",
       "Freq: D, dtype: float64"
      ]
     },
     "execution_count": 49,
     "metadata": {},
     "output_type": "execute_result"
    }
   ],
   "source": [
    "longer_ts['2001-05']"
   ]
  },
  {
   "cell_type": "code",
   "execution_count": 51,
   "metadata": {},
   "outputs": [
    {
     "data": {
      "text/plain": [
       "2011-01-02   -0.846259\n",
       "2011-01-05   -0.518185\n",
       "2011-01-07   -2.553100\n",
       "2011-01-08   -1.264504\n",
       "2011-01-10   -1.395205\n",
       "2011-01-12   -0.528635\n",
       "dtype: float64"
      ]
     },
     "execution_count": 51,
     "metadata": {},
     "output_type": "execute_result"
    }
   ],
   "source": [
    "ts[datetime(2001, 11,7):]"
   ]
  },
  {
   "cell_type": "code",
   "execution_count": 52,
   "metadata": {},
   "outputs": [
    {
     "data": {
      "text/plain": [
       "2011-01-02   -0.846259\n",
       "2011-01-05   -0.518185\n",
       "2011-01-07   -2.553100\n",
       "2011-01-08   -1.264504\n",
       "2011-01-10   -1.395205\n",
       "2011-01-12   -0.528635\n",
       "dtype: float64"
      ]
     },
     "execution_count": 52,
     "metadata": {},
     "output_type": "execute_result"
    }
   ],
   "source": [
    "ts"
   ]
  },
  {
   "cell_type": "code",
   "execution_count": 53,
   "metadata": {},
   "outputs": [
    {
     "data": {
      "text/plain": [
       "2011-01-07   -2.553100\n",
       "2011-01-08   -1.264504\n",
       "2011-01-10   -1.395205\n",
       "dtype: float64"
      ]
     },
     "execution_count": 53,
     "metadata": {},
     "output_type": "execute_result"
    }
   ],
   "source": [
    "ts['1/6/2011':'1/11/2011']"
   ]
  },
  {
   "cell_type": "code",
   "execution_count": 54,
   "metadata": {},
   "outputs": [
    {
     "data": {
      "text/plain": [
       "2011-01-02   -0.846259\n",
       "2011-01-05   -0.518185\n",
       "2011-01-07   -2.553100\n",
       "2011-01-08   -1.264504\n",
       "dtype: float64"
      ]
     },
     "execution_count": 54,
     "metadata": {},
     "output_type": "execute_result"
    }
   ],
   "source": [
    "ts.truncate(after = '1/9/2011')"
   ]
  },
  {
   "cell_type": "code",
   "execution_count": 56,
   "metadata": {},
   "outputs": [],
   "source": [
    "dates = pd.date_range('1/1/2000', periods = 100, freq = 'W-WED')"
   ]
  },
  {
   "cell_type": "code",
   "execution_count": 57,
   "metadata": {},
   "outputs": [],
   "source": [
    "long_df = pd.DataFrame(np.random.randn(100,4), index = dates, columns = ['Colorado', 'Texas', 'New York', 'Ohio'])"
   ]
  },
  {
   "cell_type": "code",
   "execution_count": 58,
   "metadata": {},
   "outputs": [
    {
     "data": {
      "text/html": [
       "<div>\n",
       "<style scoped>\n",
       "    .dataframe tbody tr th:only-of-type {\n",
       "        vertical-align: middle;\n",
       "    }\n",
       "\n",
       "    .dataframe tbody tr th {\n",
       "        vertical-align: top;\n",
       "    }\n",
       "\n",
       "    .dataframe thead th {\n",
       "        text-align: right;\n",
       "    }\n",
       "</style>\n",
       "<table border=\"1\" class=\"dataframe\">\n",
       "  <thead>\n",
       "    <tr style=\"text-align: right;\">\n",
       "      <th></th>\n",
       "      <th>Colorado</th>\n",
       "      <th>Texas</th>\n",
       "      <th>New York</th>\n",
       "      <th>Ohio</th>\n",
       "    </tr>\n",
       "  </thead>\n",
       "  <tbody>\n",
       "    <tr>\n",
       "      <th>2000-01-05</th>\n",
       "      <td>-0.405908</td>\n",
       "      <td>0.011274</td>\n",
       "      <td>3.482605</td>\n",
       "      <td>0.770361</td>\n",
       "    </tr>\n",
       "    <tr>\n",
       "      <th>2000-01-12</th>\n",
       "      <td>0.772492</td>\n",
       "      <td>-1.690180</td>\n",
       "      <td>-0.744452</td>\n",
       "      <td>1.487442</td>\n",
       "    </tr>\n",
       "    <tr>\n",
       "      <th>2000-01-19</th>\n",
       "      <td>-0.536246</td>\n",
       "      <td>-1.012179</td>\n",
       "      <td>0.311447</td>\n",
       "      <td>0.044711</td>\n",
       "    </tr>\n",
       "    <tr>\n",
       "      <th>2000-01-26</th>\n",
       "      <td>0.464478</td>\n",
       "      <td>1.292060</td>\n",
       "      <td>-0.811772</td>\n",
       "      <td>0.993489</td>\n",
       "    </tr>\n",
       "    <tr>\n",
       "      <th>2000-02-02</th>\n",
       "      <td>-0.951259</td>\n",
       "      <td>-0.663128</td>\n",
       "      <td>-0.068056</td>\n",
       "      <td>-1.087883</td>\n",
       "    </tr>\n",
       "    <tr>\n",
       "      <th>2000-02-09</th>\n",
       "      <td>-2.429758</td>\n",
       "      <td>0.557109</td>\n",
       "      <td>-0.515726</td>\n",
       "      <td>0.876163</td>\n",
       "    </tr>\n",
       "    <tr>\n",
       "      <th>2000-02-16</th>\n",
       "      <td>-0.290175</td>\n",
       "      <td>-0.035882</td>\n",
       "      <td>-0.273295</td>\n",
       "      <td>1.366242</td>\n",
       "    </tr>\n",
       "    <tr>\n",
       "      <th>2000-02-23</th>\n",
       "      <td>0.747103</td>\n",
       "      <td>0.455801</td>\n",
       "      <td>-2.265359</td>\n",
       "      <td>-1.895225</td>\n",
       "    </tr>\n",
       "    <tr>\n",
       "      <th>2000-03-01</th>\n",
       "      <td>-0.493526</td>\n",
       "      <td>0.028422</td>\n",
       "      <td>-0.607440</td>\n",
       "      <td>-1.358876</td>\n",
       "    </tr>\n",
       "    <tr>\n",
       "      <th>2000-03-08</th>\n",
       "      <td>0.496161</td>\n",
       "      <td>-0.582820</td>\n",
       "      <td>-1.254780</td>\n",
       "      <td>-0.772143</td>\n",
       "    </tr>\n",
       "    <tr>\n",
       "      <th>2000-03-15</th>\n",
       "      <td>-0.466215</td>\n",
       "      <td>0.591996</td>\n",
       "      <td>-0.608810</td>\n",
       "      <td>0.237638</td>\n",
       "    </tr>\n",
       "    <tr>\n",
       "      <th>2000-03-22</th>\n",
       "      <td>-0.140581</td>\n",
       "      <td>0.321129</td>\n",
       "      <td>1.065327</td>\n",
       "      <td>0.256337</td>\n",
       "    </tr>\n",
       "    <tr>\n",
       "      <th>2000-03-29</th>\n",
       "      <td>-0.420138</td>\n",
       "      <td>1.624949</td>\n",
       "      <td>-1.178426</td>\n",
       "      <td>0.109523</td>\n",
       "    </tr>\n",
       "    <tr>\n",
       "      <th>2000-04-05</th>\n",
       "      <td>1.701566</td>\n",
       "      <td>0.523956</td>\n",
       "      <td>0.455116</td>\n",
       "      <td>1.314115</td>\n",
       "    </tr>\n",
       "    <tr>\n",
       "      <th>2000-04-12</th>\n",
       "      <td>-1.382852</td>\n",
       "      <td>-1.249778</td>\n",
       "      <td>1.408811</td>\n",
       "      <td>-0.309657</td>\n",
       "    </tr>\n",
       "    <tr>\n",
       "      <th>2000-04-19</th>\n",
       "      <td>0.641029</td>\n",
       "      <td>0.537493</td>\n",
       "      <td>1.444668</td>\n",
       "      <td>-0.777423</td>\n",
       "    </tr>\n",
       "    <tr>\n",
       "      <th>2000-04-26</th>\n",
       "      <td>0.855249</td>\n",
       "      <td>0.343837</td>\n",
       "      <td>0.158967</td>\n",
       "      <td>0.149539</td>\n",
       "    </tr>\n",
       "    <tr>\n",
       "      <th>2000-05-03</th>\n",
       "      <td>0.928938</td>\n",
       "      <td>1.434073</td>\n",
       "      <td>-1.060132</td>\n",
       "      <td>-0.186132</td>\n",
       "    </tr>\n",
       "    <tr>\n",
       "      <th>2000-05-10</th>\n",
       "      <td>-1.539109</td>\n",
       "      <td>0.997600</td>\n",
       "      <td>0.006565</td>\n",
       "      <td>1.233194</td>\n",
       "    </tr>\n",
       "    <tr>\n",
       "      <th>2000-05-17</th>\n",
       "      <td>-1.751073</td>\n",
       "      <td>0.756841</td>\n",
       "      <td>1.458090</td>\n",
       "      <td>0.270622</td>\n",
       "    </tr>\n",
       "    <tr>\n",
       "      <th>2000-05-24</th>\n",
       "      <td>-1.454359</td>\n",
       "      <td>1.419852</td>\n",
       "      <td>-0.368811</td>\n",
       "      <td>0.189932</td>\n",
       "    </tr>\n",
       "    <tr>\n",
       "      <th>2000-05-31</th>\n",
       "      <td>0.673766</td>\n",
       "      <td>0.682252</td>\n",
       "      <td>0.023525</td>\n",
       "      <td>-0.322497</td>\n",
       "    </tr>\n",
       "    <tr>\n",
       "      <th>2000-06-07</th>\n",
       "      <td>-0.969626</td>\n",
       "      <td>-0.535072</td>\n",
       "      <td>0.397462</td>\n",
       "      <td>0.874084</td>\n",
       "    </tr>\n",
       "    <tr>\n",
       "      <th>2000-06-14</th>\n",
       "      <td>-2.004771</td>\n",
       "      <td>-0.171930</td>\n",
       "      <td>1.485457</td>\n",
       "      <td>-0.503542</td>\n",
       "    </tr>\n",
       "    <tr>\n",
       "      <th>2000-06-21</th>\n",
       "      <td>-0.197858</td>\n",
       "      <td>0.974126</td>\n",
       "      <td>1.357652</td>\n",
       "      <td>0.023070</td>\n",
       "    </tr>\n",
       "    <tr>\n",
       "      <th>2000-06-28</th>\n",
       "      <td>-1.299225</td>\n",
       "      <td>0.237003</td>\n",
       "      <td>-0.072242</td>\n",
       "      <td>-0.277762</td>\n",
       "    </tr>\n",
       "    <tr>\n",
       "      <th>2000-07-05</th>\n",
       "      <td>-0.950992</td>\n",
       "      <td>1.278322</td>\n",
       "      <td>0.054869</td>\n",
       "      <td>0.231093</td>\n",
       "    </tr>\n",
       "    <tr>\n",
       "      <th>2000-07-12</th>\n",
       "      <td>0.802784</td>\n",
       "      <td>-0.415805</td>\n",
       "      <td>1.254831</td>\n",
       "      <td>2.285564</td>\n",
       "    </tr>\n",
       "    <tr>\n",
       "      <th>2000-07-19</th>\n",
       "      <td>0.371470</td>\n",
       "      <td>-0.738182</td>\n",
       "      <td>-0.487221</td>\n",
       "      <td>-1.474376</td>\n",
       "    </tr>\n",
       "    <tr>\n",
       "      <th>2000-07-26</th>\n",
       "      <td>0.098239</td>\n",
       "      <td>1.156284</td>\n",
       "      <td>1.105159</td>\n",
       "      <td>1.273975</td>\n",
       "    </tr>\n",
       "    <tr>\n",
       "      <th>...</th>\n",
       "      <td>...</td>\n",
       "      <td>...</td>\n",
       "      <td>...</td>\n",
       "      <td>...</td>\n",
       "    </tr>\n",
       "    <tr>\n",
       "      <th>2001-05-09</th>\n",
       "      <td>1.349535</td>\n",
       "      <td>-0.057583</td>\n",
       "      <td>2.575614</td>\n",
       "      <td>1.072404</td>\n",
       "    </tr>\n",
       "    <tr>\n",
       "      <th>2001-05-16</th>\n",
       "      <td>-0.862491</td>\n",
       "      <td>0.438148</td>\n",
       "      <td>-0.984996</td>\n",
       "      <td>1.771348</td>\n",
       "    </tr>\n",
       "    <tr>\n",
       "      <th>2001-05-23</th>\n",
       "      <td>0.184451</td>\n",
       "      <td>-0.880612</td>\n",
       "      <td>-1.086660</td>\n",
       "      <td>-0.851210</td>\n",
       "    </tr>\n",
       "    <tr>\n",
       "      <th>2001-05-30</th>\n",
       "      <td>1.090601</td>\n",
       "      <td>0.049289</td>\n",
       "      <td>-1.040168</td>\n",
       "      <td>0.341757</td>\n",
       "    </tr>\n",
       "    <tr>\n",
       "      <th>2001-06-06</th>\n",
       "      <td>1.090638</td>\n",
       "      <td>-1.519061</td>\n",
       "      <td>-1.823062</td>\n",
       "      <td>-0.579995</td>\n",
       "    </tr>\n",
       "    <tr>\n",
       "      <th>2001-06-13</th>\n",
       "      <td>-1.530050</td>\n",
       "      <td>0.619113</td>\n",
       "      <td>-1.491995</td>\n",
       "      <td>-1.422765</td>\n",
       "    </tr>\n",
       "    <tr>\n",
       "      <th>2001-06-20</th>\n",
       "      <td>0.371166</td>\n",
       "      <td>1.653809</td>\n",
       "      <td>1.509499</td>\n",
       "      <td>-0.428847</td>\n",
       "    </tr>\n",
       "    <tr>\n",
       "      <th>2001-06-27</th>\n",
       "      <td>0.963452</td>\n",
       "      <td>-0.638349</td>\n",
       "      <td>0.474294</td>\n",
       "      <td>1.030590</td>\n",
       "    </tr>\n",
       "    <tr>\n",
       "      <th>2001-07-04</th>\n",
       "      <td>0.293033</td>\n",
       "      <td>1.329663</td>\n",
       "      <td>-0.055738</td>\n",
       "      <td>0.050179</td>\n",
       "    </tr>\n",
       "    <tr>\n",
       "      <th>2001-07-11</th>\n",
       "      <td>-1.721103</td>\n",
       "      <td>1.382377</td>\n",
       "      <td>-0.243003</td>\n",
       "      <td>0.001331</td>\n",
       "    </tr>\n",
       "    <tr>\n",
       "      <th>2001-07-18</th>\n",
       "      <td>1.620715</td>\n",
       "      <td>1.001259</td>\n",
       "      <td>-2.198317</td>\n",
       "      <td>-1.549760</td>\n",
       "    </tr>\n",
       "    <tr>\n",
       "      <th>2001-07-25</th>\n",
       "      <td>1.819969</td>\n",
       "      <td>0.141390</td>\n",
       "      <td>1.757678</td>\n",
       "      <td>1.468428</td>\n",
       "    </tr>\n",
       "    <tr>\n",
       "      <th>2001-08-01</th>\n",
       "      <td>1.070813</td>\n",
       "      <td>1.181803</td>\n",
       "      <td>0.267367</td>\n",
       "      <td>0.625500</td>\n",
       "    </tr>\n",
       "    <tr>\n",
       "      <th>2001-08-08</th>\n",
       "      <td>0.990241</td>\n",
       "      <td>0.097166</td>\n",
       "      <td>-0.043628</td>\n",
       "      <td>0.161154</td>\n",
       "    </tr>\n",
       "    <tr>\n",
       "      <th>2001-08-15</th>\n",
       "      <td>0.754800</td>\n",
       "      <td>2.548119</td>\n",
       "      <td>-0.116733</td>\n",
       "      <td>-0.730793</td>\n",
       "    </tr>\n",
       "    <tr>\n",
       "      <th>2001-08-22</th>\n",
       "      <td>0.662656</td>\n",
       "      <td>-0.837862</td>\n",
       "      <td>-0.637994</td>\n",
       "      <td>-0.925438</td>\n",
       "    </tr>\n",
       "    <tr>\n",
       "      <th>2001-08-29</th>\n",
       "      <td>0.631159</td>\n",
       "      <td>-1.816295</td>\n",
       "      <td>-0.140381</td>\n",
       "      <td>0.068860</td>\n",
       "    </tr>\n",
       "    <tr>\n",
       "      <th>2001-09-05</th>\n",
       "      <td>-0.041550</td>\n",
       "      <td>0.686296</td>\n",
       "      <td>-0.743554</td>\n",
       "      <td>-1.958089</td>\n",
       "    </tr>\n",
       "    <tr>\n",
       "      <th>2001-09-12</th>\n",
       "      <td>0.565500</td>\n",
       "      <td>-1.064884</td>\n",
       "      <td>-0.576057</td>\n",
       "      <td>0.532692</td>\n",
       "    </tr>\n",
       "    <tr>\n",
       "      <th>2001-09-19</th>\n",
       "      <td>-0.241526</td>\n",
       "      <td>-2.190306</td>\n",
       "      <td>1.737225</td>\n",
       "      <td>0.393653</td>\n",
       "    </tr>\n",
       "    <tr>\n",
       "      <th>2001-09-26</th>\n",
       "      <td>0.575780</td>\n",
       "      <td>-0.034385</td>\n",
       "      <td>1.976450</td>\n",
       "      <td>0.936662</td>\n",
       "    </tr>\n",
       "    <tr>\n",
       "      <th>2001-10-03</th>\n",
       "      <td>-0.451296</td>\n",
       "      <td>-0.782189</td>\n",
       "      <td>-0.165699</td>\n",
       "      <td>1.020039</td>\n",
       "    </tr>\n",
       "    <tr>\n",
       "      <th>2001-10-10</th>\n",
       "      <td>-0.464001</td>\n",
       "      <td>0.267198</td>\n",
       "      <td>-1.624289</td>\n",
       "      <td>0.341904</td>\n",
       "    </tr>\n",
       "    <tr>\n",
       "      <th>2001-10-17</th>\n",
       "      <td>-1.611344</td>\n",
       "      <td>-1.216705</td>\n",
       "      <td>-0.183047</td>\n",
       "      <td>-0.027564</td>\n",
       "    </tr>\n",
       "    <tr>\n",
       "      <th>2001-10-24</th>\n",
       "      <td>-0.087304</td>\n",
       "      <td>0.766683</td>\n",
       "      <td>-0.411496</td>\n",
       "      <td>-1.533714</td>\n",
       "    </tr>\n",
       "    <tr>\n",
       "      <th>2001-10-31</th>\n",
       "      <td>0.105514</td>\n",
       "      <td>-0.633951</td>\n",
       "      <td>-0.689659</td>\n",
       "      <td>1.505919</td>\n",
       "    </tr>\n",
       "    <tr>\n",
       "      <th>2001-11-07</th>\n",
       "      <td>-0.648180</td>\n",
       "      <td>0.859014</td>\n",
       "      <td>0.721703</td>\n",
       "      <td>1.241856</td>\n",
       "    </tr>\n",
       "    <tr>\n",
       "      <th>2001-11-14</th>\n",
       "      <td>-0.742119</td>\n",
       "      <td>0.459898</td>\n",
       "      <td>-1.341749</td>\n",
       "      <td>-0.483797</td>\n",
       "    </tr>\n",
       "    <tr>\n",
       "      <th>2001-11-21</th>\n",
       "      <td>0.033619</td>\n",
       "      <td>2.099466</td>\n",
       "      <td>0.814852</td>\n",
       "      <td>-0.796940</td>\n",
       "    </tr>\n",
       "    <tr>\n",
       "      <th>2001-11-28</th>\n",
       "      <td>0.232613</td>\n",
       "      <td>-0.941491</td>\n",
       "      <td>0.893156</td>\n",
       "      <td>-1.383789</td>\n",
       "    </tr>\n",
       "  </tbody>\n",
       "</table>\n",
       "<p>100 rows × 4 columns</p>\n",
       "</div>"
      ],
      "text/plain": [
       "            Colorado     Texas  New York      Ohio\n",
       "2000-01-05 -0.405908  0.011274  3.482605  0.770361\n",
       "2000-01-12  0.772492 -1.690180 -0.744452  1.487442\n",
       "2000-01-19 -0.536246 -1.012179  0.311447  0.044711\n",
       "2000-01-26  0.464478  1.292060 -0.811772  0.993489\n",
       "2000-02-02 -0.951259 -0.663128 -0.068056 -1.087883\n",
       "2000-02-09 -2.429758  0.557109 -0.515726  0.876163\n",
       "2000-02-16 -0.290175 -0.035882 -0.273295  1.366242\n",
       "2000-02-23  0.747103  0.455801 -2.265359 -1.895225\n",
       "2000-03-01 -0.493526  0.028422 -0.607440 -1.358876\n",
       "2000-03-08  0.496161 -0.582820 -1.254780 -0.772143\n",
       "2000-03-15 -0.466215  0.591996 -0.608810  0.237638\n",
       "2000-03-22 -0.140581  0.321129  1.065327  0.256337\n",
       "2000-03-29 -0.420138  1.624949 -1.178426  0.109523\n",
       "2000-04-05  1.701566  0.523956  0.455116  1.314115\n",
       "2000-04-12 -1.382852 -1.249778  1.408811 -0.309657\n",
       "2000-04-19  0.641029  0.537493  1.444668 -0.777423\n",
       "2000-04-26  0.855249  0.343837  0.158967  0.149539\n",
       "2000-05-03  0.928938  1.434073 -1.060132 -0.186132\n",
       "2000-05-10 -1.539109  0.997600  0.006565  1.233194\n",
       "2000-05-17 -1.751073  0.756841  1.458090  0.270622\n",
       "2000-05-24 -1.454359  1.419852 -0.368811  0.189932\n",
       "2000-05-31  0.673766  0.682252  0.023525 -0.322497\n",
       "2000-06-07 -0.969626 -0.535072  0.397462  0.874084\n",
       "2000-06-14 -2.004771 -0.171930  1.485457 -0.503542\n",
       "2000-06-21 -0.197858  0.974126  1.357652  0.023070\n",
       "2000-06-28 -1.299225  0.237003 -0.072242 -0.277762\n",
       "2000-07-05 -0.950992  1.278322  0.054869  0.231093\n",
       "2000-07-12  0.802784 -0.415805  1.254831  2.285564\n",
       "2000-07-19  0.371470 -0.738182 -0.487221 -1.474376\n",
       "2000-07-26  0.098239  1.156284  1.105159  1.273975\n",
       "...              ...       ...       ...       ...\n",
       "2001-05-09  1.349535 -0.057583  2.575614  1.072404\n",
       "2001-05-16 -0.862491  0.438148 -0.984996  1.771348\n",
       "2001-05-23  0.184451 -0.880612 -1.086660 -0.851210\n",
       "2001-05-30  1.090601  0.049289 -1.040168  0.341757\n",
       "2001-06-06  1.090638 -1.519061 -1.823062 -0.579995\n",
       "2001-06-13 -1.530050  0.619113 -1.491995 -1.422765\n",
       "2001-06-20  0.371166  1.653809  1.509499 -0.428847\n",
       "2001-06-27  0.963452 -0.638349  0.474294  1.030590\n",
       "2001-07-04  0.293033  1.329663 -0.055738  0.050179\n",
       "2001-07-11 -1.721103  1.382377 -0.243003  0.001331\n",
       "2001-07-18  1.620715  1.001259 -2.198317 -1.549760\n",
       "2001-07-25  1.819969  0.141390  1.757678  1.468428\n",
       "2001-08-01  1.070813  1.181803  0.267367  0.625500\n",
       "2001-08-08  0.990241  0.097166 -0.043628  0.161154\n",
       "2001-08-15  0.754800  2.548119 -0.116733 -0.730793\n",
       "2001-08-22  0.662656 -0.837862 -0.637994 -0.925438\n",
       "2001-08-29  0.631159 -1.816295 -0.140381  0.068860\n",
       "2001-09-05 -0.041550  0.686296 -0.743554 -1.958089\n",
       "2001-09-12  0.565500 -1.064884 -0.576057  0.532692\n",
       "2001-09-19 -0.241526 -2.190306  1.737225  0.393653\n",
       "2001-09-26  0.575780 -0.034385  1.976450  0.936662\n",
       "2001-10-03 -0.451296 -0.782189 -0.165699  1.020039\n",
       "2001-10-10 -0.464001  0.267198 -1.624289  0.341904\n",
       "2001-10-17 -1.611344 -1.216705 -0.183047 -0.027564\n",
       "2001-10-24 -0.087304  0.766683 -0.411496 -1.533714\n",
       "2001-10-31  0.105514 -0.633951 -0.689659  1.505919\n",
       "2001-11-07 -0.648180  0.859014  0.721703  1.241856\n",
       "2001-11-14 -0.742119  0.459898 -1.341749 -0.483797\n",
       "2001-11-21  0.033619  2.099466  0.814852 -0.796940\n",
       "2001-11-28  0.232613 -0.941491  0.893156 -1.383789\n",
       "\n",
       "[100 rows x 4 columns]"
      ]
     },
     "execution_count": 58,
     "metadata": {},
     "output_type": "execute_result"
    }
   ],
   "source": [
    "long_df"
   ]
  },
  {
   "cell_type": "code",
   "execution_count": 59,
   "metadata": {},
   "outputs": [
    {
     "data": {
      "text/html": [
       "<div>\n",
       "<style scoped>\n",
       "    .dataframe tbody tr th:only-of-type {\n",
       "        vertical-align: middle;\n",
       "    }\n",
       "\n",
       "    .dataframe tbody tr th {\n",
       "        vertical-align: top;\n",
       "    }\n",
       "\n",
       "    .dataframe thead th {\n",
       "        text-align: right;\n",
       "    }\n",
       "</style>\n",
       "<table border=\"1\" class=\"dataframe\">\n",
       "  <thead>\n",
       "    <tr style=\"text-align: right;\">\n",
       "      <th></th>\n",
       "      <th>Colorado</th>\n",
       "      <th>Texas</th>\n",
       "      <th>New York</th>\n",
       "      <th>Ohio</th>\n",
       "    </tr>\n",
       "  </thead>\n",
       "  <tbody>\n",
       "    <tr>\n",
       "      <th>2001-05-02</th>\n",
       "      <td>0.648556</td>\n",
       "      <td>-1.676312</td>\n",
       "      <td>0.476556</td>\n",
       "      <td>0.352786</td>\n",
       "    </tr>\n",
       "    <tr>\n",
       "      <th>2001-05-09</th>\n",
       "      <td>1.349535</td>\n",
       "      <td>-0.057583</td>\n",
       "      <td>2.575614</td>\n",
       "      <td>1.072404</td>\n",
       "    </tr>\n",
       "    <tr>\n",
       "      <th>2001-05-16</th>\n",
       "      <td>-0.862491</td>\n",
       "      <td>0.438148</td>\n",
       "      <td>-0.984996</td>\n",
       "      <td>1.771348</td>\n",
       "    </tr>\n",
       "    <tr>\n",
       "      <th>2001-05-23</th>\n",
       "      <td>0.184451</td>\n",
       "      <td>-0.880612</td>\n",
       "      <td>-1.086660</td>\n",
       "      <td>-0.851210</td>\n",
       "    </tr>\n",
       "    <tr>\n",
       "      <th>2001-05-30</th>\n",
       "      <td>1.090601</td>\n",
       "      <td>0.049289</td>\n",
       "      <td>-1.040168</td>\n",
       "      <td>0.341757</td>\n",
       "    </tr>\n",
       "  </tbody>\n",
       "</table>\n",
       "</div>"
      ],
      "text/plain": [
       "            Colorado     Texas  New York      Ohio\n",
       "2001-05-02  0.648556 -1.676312  0.476556  0.352786\n",
       "2001-05-09  1.349535 -0.057583  2.575614  1.072404\n",
       "2001-05-16 -0.862491  0.438148 -0.984996  1.771348\n",
       "2001-05-23  0.184451 -0.880612 -1.086660 -0.851210\n",
       "2001-05-30  1.090601  0.049289 -1.040168  0.341757"
      ]
     },
     "execution_count": 59,
     "metadata": {},
     "output_type": "execute_result"
    }
   ],
   "source": [
    "long_df.loc['5-2001']"
   ]
  },
  {
   "cell_type": "markdown",
   "metadata": {},
   "source": [
    "### Time Series with Duplicated indices"
   ]
  },
  {
   "cell_type": "code",
   "execution_count": 60,
   "metadata": {},
   "outputs": [],
   "source": [
    "dates = pd.DatetimeIndex(['1/1/2000', '1/2/2000', '1/2/2000',\n",
    "....: '1/2/2000', '1/3/2000'])"
   ]
  },
  {
   "cell_type": "code",
   "execution_count": 61,
   "metadata": {},
   "outputs": [],
   "source": [
    "dup_ts = pd.Series(np.arange(5), index = dates)"
   ]
  },
  {
   "cell_type": "code",
   "execution_count": 62,
   "metadata": {},
   "outputs": [
    {
     "data": {
      "text/plain": [
       "2000-01-01    0\n",
       "2000-01-02    1\n",
       "2000-01-02    2\n",
       "2000-01-02    3\n",
       "2000-01-03    4\n",
       "dtype: int32"
      ]
     },
     "execution_count": 62,
     "metadata": {},
     "output_type": "execute_result"
    }
   ],
   "source": [
    "dup_ts"
   ]
  },
  {
   "cell_type": "code",
   "execution_count": 63,
   "metadata": {},
   "outputs": [
    {
     "data": {
      "text/plain": [
       "False"
      ]
     },
     "execution_count": 63,
     "metadata": {},
     "output_type": "execute_result"
    }
   ],
   "source": [
    "dup_ts.index.is_unique"
   ]
  },
  {
   "cell_type": "code",
   "execution_count": 64,
   "metadata": {},
   "outputs": [],
   "source": [
    "# aggregate the data having non-unique timestamps\n",
    "grouped = dup_ts.groupby(level = 0)"
   ]
  },
  {
   "cell_type": "code",
   "execution_count": 65,
   "metadata": {},
   "outputs": [
    {
     "data": {
      "text/plain": [
       "<pandas.core.groupby.generic.SeriesGroupBy object at 0x000001F9B22FC240>"
      ]
     },
     "execution_count": 65,
     "metadata": {},
     "output_type": "execute_result"
    }
   ],
   "source": [
    "grouped"
   ]
  },
  {
   "cell_type": "code",
   "execution_count": 66,
   "metadata": {},
   "outputs": [
    {
     "data": {
      "text/plain": [
       "2000-01-01    0\n",
       "2000-01-02    2\n",
       "2000-01-03    4\n",
       "dtype: int32"
      ]
     },
     "execution_count": 66,
     "metadata": {},
     "output_type": "execute_result"
    }
   ],
   "source": [
    "grouped.mean()"
   ]
  },
  {
   "cell_type": "code",
   "execution_count": 67,
   "metadata": {},
   "outputs": [
    {
     "data": {
      "text/plain": [
       "2000-01-01    1\n",
       "2000-01-02    3\n",
       "2000-01-03    1\n",
       "dtype: int64"
      ]
     },
     "execution_count": 67,
     "metadata": {},
     "output_type": "execute_result"
    }
   ],
   "source": [
    "grouped.count()"
   ]
  },
  {
   "cell_type": "markdown",
   "metadata": {},
   "source": [
    "## 11.3 Date Ranges, Frequencies, and Shifting"
   ]
  },
  {
   "cell_type": "code",
   "execution_count": 68,
   "metadata": {},
   "outputs": [
    {
     "data": {
      "text/plain": [
       "2011-01-02   -0.846259\n",
       "2011-01-05   -0.518185\n",
       "2011-01-07   -2.553100\n",
       "2011-01-08   -1.264504\n",
       "2011-01-10   -1.395205\n",
       "2011-01-12   -0.528635\n",
       "dtype: float64"
      ]
     },
     "execution_count": 68,
     "metadata": {},
     "output_type": "execute_result"
    }
   ],
   "source": [
    "ts"
   ]
  },
  {
   "cell_type": "code",
   "execution_count": 69,
   "metadata": {},
   "outputs": [],
   "source": [
    "resampler = ts.resample('D')"
   ]
  },
  {
   "cell_type": "code",
   "execution_count": 70,
   "metadata": {},
   "outputs": [
    {
     "data": {
      "text/plain": [
       "DatetimeIndexResampler [freq=<Day>, axis=0, closed=left, label=left, convention=start, base=0]"
      ]
     },
     "execution_count": 70,
     "metadata": {},
     "output_type": "execute_result"
    }
   ],
   "source": [
    "resampler"
   ]
  },
  {
   "cell_type": "markdown",
   "metadata": {},
   "source": [
    "### Generating Date Ranges"
   ]
  },
  {
   "cell_type": "code",
   "execution_count": 79,
   "metadata": {},
   "outputs": [],
   "source": [
    "index = pd.date_range('2012-04-01', '2012-06-01', periods = 14)"
   ]
  },
  {
   "cell_type": "code",
   "execution_count": 80,
   "metadata": {},
   "outputs": [
    {
     "data": {
      "text/plain": [
       "DatetimeIndex([          '2012-04-01 00:00:00',\n",
       "               '2012-04-05 16:36:55.384615384',\n",
       "               '2012-04-10 09:13:50.769230769',\n",
       "               '2012-04-15 01:50:46.153846154',\n",
       "               '2012-04-19 18:27:41.538461538',\n",
       "               '2012-04-24 11:04:36.923076923',\n",
       "               '2012-04-29 03:41:32.307692308',\n",
       "               '2012-05-03 20:18:27.692307692',\n",
       "               '2012-05-08 12:55:23.076923077',\n",
       "               '2012-05-13 05:32:18.461538461',\n",
       "               '2012-05-17 22:09:13.846153846',\n",
       "               '2012-05-22 14:46:09.230769231',\n",
       "               '2012-05-27 07:23:04.615384616',\n",
       "                         '2012-06-01 00:00:00'],\n",
       "              dtype='datetime64[ns]', freq=None)"
      ]
     },
     "execution_count": 80,
     "metadata": {},
     "output_type": "execute_result"
    }
   ],
   "source": [
    "index"
   ]
  },
  {
   "cell_type": "markdown",
   "metadata": {},
   "source": [
    "### Frequencies and Date Offsets"
   ]
  },
  {
   "cell_type": "code",
   "execution_count": 81,
   "metadata": {},
   "outputs": [],
   "source": [
    "from pandas.tseries.offsets import Hour, Minute"
   ]
  },
  {
   "cell_type": "code",
   "execution_count": 82,
   "metadata": {},
   "outputs": [
    {
     "data": {
      "text/plain": [
       "DatetimeIndex(['2000-01-01 00:00:00', '2000-01-01 04:00:00',\n",
       "               '2000-01-01 08:00:00', '2000-01-01 12:00:00',\n",
       "               '2000-01-01 16:00:00', '2000-01-01 20:00:00',\n",
       "               '2000-01-02 00:00:00', '2000-01-02 04:00:00',\n",
       "               '2000-01-02 08:00:00', '2000-01-02 12:00:00',\n",
       "               ...\n",
       "               '2001-01-02 08:00:00', '2001-01-02 12:00:00',\n",
       "               '2001-01-02 16:00:00', '2001-01-02 20:00:00',\n",
       "               '2001-01-03 00:00:00', '2001-01-03 04:00:00',\n",
       "               '2001-01-03 08:00:00', '2001-01-03 12:00:00',\n",
       "               '2001-01-03 16:00:00', '2001-01-03 20:00:00'],\n",
       "              dtype='datetime64[ns]', length=2214, freq='4H')"
      ]
     },
     "execution_count": 82,
     "metadata": {},
     "output_type": "execute_result"
    }
   ],
   "source": [
    "pd.date_range('2000-01-01', '2001-01-03 23:59', freq = '4h')"
   ]
  },
  {
   "cell_type": "code",
   "execution_count": 83,
   "metadata": {},
   "outputs": [],
   "source": [
    "# Get the third Friday of each month\n",
    "rng = pd.date_range('2012-01-01', '2012-09-01', freq='WOM-3FRI')"
   ]
  },
  {
   "cell_type": "code",
   "execution_count": 84,
   "metadata": {},
   "outputs": [
    {
     "data": {
      "text/plain": [
       "DatetimeIndex(['2012-01-20', '2012-02-17', '2012-03-16', '2012-04-20',\n",
       "               '2012-05-18', '2012-06-15', '2012-07-20', '2012-08-17'],\n",
       "              dtype='datetime64[ns]', freq='WOM-3FRI')"
      ]
     },
     "execution_count": 84,
     "metadata": {},
     "output_type": "execute_result"
    }
   ],
   "source": [
    "rng"
   ]
  },
  {
   "cell_type": "markdown",
   "metadata": {},
   "source": [
    "### Sgifting Data (leading and Lagging)"
   ]
  },
  {
   "cell_type": "code",
   "execution_count": 86,
   "metadata": {},
   "outputs": [],
   "source": [
    "ts = pd.Series(np.random.randn(4), index = pd.date_range('1/1/2000', periods = 4, freq = 'M'))"
   ]
  },
  {
   "cell_type": "code",
   "execution_count": 87,
   "metadata": {},
   "outputs": [
    {
     "data": {
      "text/plain": [
       "2000-01-31    0.376208\n",
       "2000-02-29    0.174729\n",
       "2000-03-31    0.953557\n",
       "2000-04-30    0.107373\n",
       "Freq: M, dtype: float64"
      ]
     },
     "execution_count": 87,
     "metadata": {},
     "output_type": "execute_result"
    }
   ],
   "source": [
    "ts"
   ]
  },
  {
   "cell_type": "code",
   "execution_count": 88,
   "metadata": {},
   "outputs": [
    {
     "data": {
      "text/plain": [
       "2000-01-31         NaN\n",
       "2000-02-29         NaN\n",
       "2000-03-31    0.376208\n",
       "2000-04-30    0.174729\n",
       "Freq: M, dtype: float64"
      ]
     },
     "execution_count": 88,
     "metadata": {},
     "output_type": "execute_result"
    }
   ],
   "source": [
    "ts.shift(2)"
   ]
  },
  {
   "cell_type": "code",
   "execution_count": 89,
   "metadata": {},
   "outputs": [
    {
     "data": {
      "text/plain": [
       "2000-01-31    0.953557\n",
       "2000-02-29    0.107373\n",
       "2000-03-31         NaN\n",
       "2000-04-30         NaN\n",
       "Freq: M, dtype: float64"
      ]
     },
     "execution_count": 89,
     "metadata": {},
     "output_type": "execute_result"
    }
   ],
   "source": [
    "ts.shift(-2)"
   ]
  },
  {
   "cell_type": "code",
   "execution_count": 90,
   "metadata": {},
   "outputs": [
    {
     "data": {
      "text/plain": [
       "2000-01-31    1.153098\n",
       "2000-02-29   -0.816761\n",
       "2000-03-31    7.880772\n",
       "2000-04-30         NaN\n",
       "Freq: M, dtype: float64"
      ]
     },
     "execution_count": 90,
     "metadata": {},
     "output_type": "execute_result"
    }
   ],
   "source": [
    "# percentage change\n",
    "ts/ts.shift(-1) -1 "
   ]
  },
  {
   "cell_type": "code",
   "execution_count": 91,
   "metadata": {},
   "outputs": [
    {
     "data": {
      "text/plain": [
       "2000-03-31    0.376208\n",
       "2000-04-30    0.174729\n",
       "2000-05-31    0.953557\n",
       "2000-06-30    0.107373\n",
       "Freq: M, dtype: float64"
      ]
     },
     "execution_count": 91,
     "metadata": {},
     "output_type": "execute_result"
    }
   ],
   "source": [
    "ts.shift(2, freq = 'M')"
   ]
  },
  {
   "cell_type": "markdown",
   "metadata": {},
   "source": [
    "### Shirting dates with offsets"
   ]
  },
  {
   "cell_type": "code",
   "execution_count": 92,
   "metadata": {},
   "outputs": [],
   "source": [
    "from pandas.tseries.offsets import Day, MonthEnd"
   ]
  },
  {
   "cell_type": "code",
   "execution_count": 93,
   "metadata": {},
   "outputs": [
    {
     "data": {
      "text/plain": [
       "Timestamp('2020-05-24 15:24:44.253803')"
      ]
     },
     "execution_count": 93,
     "metadata": {},
     "output_type": "execute_result"
    }
   ],
   "source": [
    "now + 3*Day()"
   ]
  },
  {
   "cell_type": "code",
   "execution_count": 94,
   "metadata": {},
   "outputs": [
    {
     "data": {
      "text/plain": [
       "Timestamp('2020-05-31 15:24:44.253803')"
      ]
     },
     "execution_count": 94,
     "metadata": {},
     "output_type": "execute_result"
    }
   ],
   "source": [
    "now + MonthEnd()"
   ]
  },
  {
   "cell_type": "code",
   "execution_count": 95,
   "metadata": {},
   "outputs": [
    {
     "data": {
      "text/plain": [
       "Timestamp('2020-06-30 15:24:44.253803')"
      ]
     },
     "execution_count": 95,
     "metadata": {},
     "output_type": "execute_result"
    }
   ],
   "source": [
    "now + MonthEnd(2)"
   ]
  },
  {
   "cell_type": "code",
   "execution_count": 96,
   "metadata": {},
   "outputs": [],
   "source": [
    "offset = MonthEnd()"
   ]
  },
  {
   "cell_type": "code",
   "execution_count": 97,
   "metadata": {},
   "outputs": [
    {
     "data": {
      "text/plain": [
       "Timestamp('2020-04-30 15:24:44.253803')"
      ]
     },
     "execution_count": 97,
     "metadata": {},
     "output_type": "execute_result"
    }
   ],
   "source": [
    "offset.rollback(now)"
   ]
  },
  {
   "cell_type": "code",
   "execution_count": 98,
   "metadata": {},
   "outputs": [
    {
     "data": {
      "text/plain": [
       "Timestamp('2020-05-31 15:24:44.253803')"
      ]
     },
     "execution_count": 98,
     "metadata": {},
     "output_type": "execute_result"
    }
   ],
   "source": [
    "offset.rollforward(now)"
   ]
  },
  {
   "cell_type": "code",
   "execution_count": 101,
   "metadata": {},
   "outputs": [],
   "source": [
    "ts = pd.Series(np.random.randn(20), index = pd.date_range('1/15/2000', periods = 20, freq = '4d'))"
   ]
  },
  {
   "cell_type": "code",
   "execution_count": 102,
   "metadata": {},
   "outputs": [
    {
     "data": {
      "text/plain": [
       "2000-01-15    1.927035\n",
       "2000-01-19    0.229043\n",
       "2000-01-23   -0.004740\n",
       "2000-01-27   -1.141203\n",
       "2000-01-31    1.161543\n",
       "2000-02-04   -0.144711\n",
       "2000-02-08    0.829075\n",
       "2000-02-12   -0.981383\n",
       "2000-02-16   -2.222622\n",
       "2000-02-20   -1.495935\n",
       "2000-02-24   -0.644052\n",
       "2000-02-28   -0.814791\n",
       "2000-03-03    0.816281\n",
       "2000-03-07   -1.645719\n",
       "2000-03-11   -0.526142\n",
       "2000-03-15    0.107365\n",
       "2000-03-19   -0.234148\n",
       "2000-03-23    0.891311\n",
       "2000-03-27   -0.278495\n",
       "2000-03-31   -0.300625\n",
       "Freq: 4D, dtype: float64"
      ]
     },
     "execution_count": 102,
     "metadata": {},
     "output_type": "execute_result"
    }
   ],
   "source": [
    "ts"
   ]
  },
  {
   "cell_type": "code",
   "execution_count": 104,
   "metadata": {},
   "outputs": [
    {
     "data": {
      "text/plain": [
       "2000-01-31    0.434336\n",
       "2000-02-29   -0.782060\n",
       "2000-03-31   -0.146271\n",
       "dtype: float64"
      ]
     },
     "execution_count": 104,
     "metadata": {},
     "output_type": "execute_result"
    }
   ],
   "source": [
    "ts.groupby(offset.rollforward).mean()"
   ]
  },
  {
   "cell_type": "code",
   "execution_count": 105,
   "metadata": {},
   "outputs": [
    {
     "data": {
      "text/plain": [
       "2000-01-31    0.434336\n",
       "2000-02-29   -0.782060\n",
       "2000-03-31   -0.146271\n",
       "Freq: M, dtype: float64"
      ]
     },
     "execution_count": 105,
     "metadata": {},
     "output_type": "execute_result"
    }
   ],
   "source": [
    "ts.resample('M').mean()"
   ]
  },
  {
   "cell_type": "markdown",
   "metadata": {},
   "source": [
    "## 11.4 Time Zone Handling"
   ]
  },
  {
   "cell_type": "code",
   "execution_count": 106,
   "metadata": {},
   "outputs": [],
   "source": [
    "import pytz"
   ]
  },
  {
   "cell_type": "code",
   "execution_count": 108,
   "metadata": {},
   "outputs": [
    {
     "data": {
      "text/plain": [
       "['US/Eastern', 'US/Hawaii', 'US/Mountain', 'US/Pacific', 'UTC']"
      ]
     },
     "execution_count": 108,
     "metadata": {},
     "output_type": "execute_result"
    }
   ],
   "source": [
    "pytz.common_timezones[-5:]"
   ]
  },
  {
   "cell_type": "code",
   "execution_count": 114,
   "metadata": {},
   "outputs": [],
   "source": [
    "tz = pytz.timezone('America/New_York')"
   ]
  },
  {
   "cell_type": "code",
   "execution_count": 115,
   "metadata": {},
   "outputs": [
    {
     "data": {
      "text/plain": [
       "<DstTzInfo 'America/New_York' LMT-1 day, 19:04:00 STD>"
      ]
     },
     "execution_count": 115,
     "metadata": {},
     "output_type": "execute_result"
    }
   ],
   "source": [
    "tz"
   ]
  },
  {
   "cell_type": "markdown",
   "metadata": {},
   "source": [
    "### Time Zone Localization and Conversion"
   ]
  },
  {
   "cell_type": "code",
   "execution_count": 116,
   "metadata": {},
   "outputs": [],
   "source": [
    "rng = pd.date_range('3/9/2012 9:30', periods = 6, freq = 'D')"
   ]
  },
  {
   "cell_type": "code",
   "execution_count": 117,
   "metadata": {},
   "outputs": [],
   "source": [
    "ts = pd.Series(np.random.randn(len(rng)), index = rng)"
   ]
  },
  {
   "cell_type": "code",
   "execution_count": 118,
   "metadata": {},
   "outputs": [
    {
     "data": {
      "text/plain": [
       "2012-03-09 09:30:00   -0.212025\n",
       "2012-03-10 09:30:00    0.285902\n",
       "2012-03-11 09:30:00    0.100122\n",
       "2012-03-12 09:30:00    0.983749\n",
       "2012-03-13 09:30:00    1.686477\n",
       "2012-03-14 09:30:00    0.728609\n",
       "Freq: D, dtype: float64"
      ]
     },
     "execution_count": 118,
     "metadata": {},
     "output_type": "execute_result"
    }
   ],
   "source": [
    "ts"
   ]
  },
  {
   "cell_type": "code",
   "execution_count": 119,
   "metadata": {},
   "outputs": [
    {
     "name": "stdout",
     "output_type": "stream",
     "text": [
      "None\n"
     ]
    }
   ],
   "source": [
    "print(ts.index.tz)"
   ]
  },
  {
   "cell_type": "code",
   "execution_count": 120,
   "metadata": {},
   "outputs": [
    {
     "data": {
      "text/plain": [
       "DatetimeIndex(['2012-03-09 09:30:00+00:00', '2012-03-10 09:30:00+00:00',\n",
       "               '2012-03-11 09:30:00+00:00', '2012-03-12 09:30:00+00:00',\n",
       "               '2012-03-13 09:30:00+00:00', '2012-03-14 09:30:00+00:00'],\n",
       "              dtype='datetime64[ns, UTC]', freq='D')"
      ]
     },
     "execution_count": 120,
     "metadata": {},
     "output_type": "execute_result"
    }
   ],
   "source": [
    "pd.date_range('3/9/2012 9:30', periods = 6, freq = 'D', tz = 'UTC')"
   ]
  },
  {
   "cell_type": "code",
   "execution_count": 121,
   "metadata": {},
   "outputs": [],
   "source": [
    "ts_utc = ts.tz_localize('UTC')"
   ]
  },
  {
   "cell_type": "code",
   "execution_count": 122,
   "metadata": {},
   "outputs": [
    {
     "data": {
      "text/plain": [
       "2012-03-09 09:30:00+00:00   -0.212025\n",
       "2012-03-10 09:30:00+00:00    0.285902\n",
       "2012-03-11 09:30:00+00:00    0.100122\n",
       "2012-03-12 09:30:00+00:00    0.983749\n",
       "2012-03-13 09:30:00+00:00    1.686477\n",
       "2012-03-14 09:30:00+00:00    0.728609\n",
       "Freq: D, dtype: float64"
      ]
     },
     "execution_count": 122,
     "metadata": {},
     "output_type": "execute_result"
    }
   ],
   "source": [
    "ts_utc"
   ]
  },
  {
   "cell_type": "code",
   "execution_count": 123,
   "metadata": {},
   "outputs": [
    {
     "data": {
      "text/plain": [
       "DatetimeIndex(['2012-03-09 09:30:00+00:00', '2012-03-10 09:30:00+00:00',\n",
       "               '2012-03-11 09:30:00+00:00', '2012-03-12 09:30:00+00:00',\n",
       "               '2012-03-13 09:30:00+00:00', '2012-03-14 09:30:00+00:00'],\n",
       "              dtype='datetime64[ns, UTC]', freq='D')"
      ]
     },
     "execution_count": 123,
     "metadata": {},
     "output_type": "execute_result"
    }
   ],
   "source": [
    "ts_utc.index"
   ]
  },
  {
   "cell_type": "code",
   "execution_count": 124,
   "metadata": {},
   "outputs": [
    {
     "data": {
      "text/plain": [
       "2012-03-09 04:30:00-05:00   -0.212025\n",
       "2012-03-10 04:30:00-05:00    0.285902\n",
       "2012-03-11 05:30:00-04:00    0.100122\n",
       "2012-03-12 05:30:00-04:00    0.983749\n",
       "2012-03-13 05:30:00-04:00    1.686477\n",
       "2012-03-14 05:30:00-04:00    0.728609\n",
       "Freq: D, dtype: float64"
      ]
     },
     "execution_count": 124,
     "metadata": {},
     "output_type": "execute_result"
    }
   ],
   "source": [
    "ts_utc.tz_convert('America/New_York')"
   ]
  },
  {
   "cell_type": "markdown",
   "metadata": {},
   "source": [
    "## 11.5 Periods and Period Arithmetic"
   ]
  },
  {
   "cell_type": "code",
   "execution_count": 128,
   "metadata": {},
   "outputs": [],
   "source": [
    "p = pd.Period(2007, freq='A-DEC')"
   ]
  },
  {
   "cell_type": "code",
   "execution_count": 129,
   "metadata": {},
   "outputs": [
    {
     "data": {
      "text/plain": [
       "Period('2007', 'A-DEC')"
      ]
     },
     "execution_count": 129,
     "metadata": {},
     "output_type": "execute_result"
    }
   ],
   "source": [
    "p"
   ]
  },
  {
   "cell_type": "code",
   "execution_count": 130,
   "metadata": {},
   "outputs": [
    {
     "data": {
      "text/plain": [
       "Period('2012', 'A-DEC')"
      ]
     },
     "execution_count": 130,
     "metadata": {},
     "output_type": "execute_result"
    }
   ],
   "source": [
    "p + 5"
   ]
  },
  {
   "cell_type": "code",
   "execution_count": 131,
   "metadata": {},
   "outputs": [],
   "source": [
    "values = ['2001Q3', '2002Q2', '2003Q1']"
   ]
  },
  {
   "cell_type": "code",
   "execution_count": 132,
   "metadata": {},
   "outputs": [],
   "source": [
    "index = pd.PeriodIndex(values, freq = 'Q-DEC')"
   ]
  },
  {
   "cell_type": "code",
   "execution_count": 133,
   "metadata": {},
   "outputs": [
    {
     "data": {
      "text/plain": [
       "PeriodIndex(['2001Q3', '2002Q2', '2003Q1'], dtype='period[Q-DEC]', freq='Q-DEC')"
      ]
     },
     "execution_count": 133,
     "metadata": {},
     "output_type": "execute_result"
    }
   ],
   "source": [
    "index"
   ]
  },
  {
   "cell_type": "markdown",
   "metadata": {},
   "source": [
    "### Period Frequency Conversion"
   ]
  },
  {
   "cell_type": "code",
   "execution_count": 134,
   "metadata": {},
   "outputs": [
    {
     "data": {
      "text/plain": [
       "Period('2007-01', 'M')"
      ]
     },
     "execution_count": 134,
     "metadata": {},
     "output_type": "execute_result"
    }
   ],
   "source": [
    "p.asfreq('M', how = 'start')"
   ]
  },
  {
   "cell_type": "code",
   "execution_count": 135,
   "metadata": {},
   "outputs": [],
   "source": [
    "rng = pd.period_range('2006', '2009', freq = 'A-DEC')"
   ]
  },
  {
   "cell_type": "code",
   "execution_count": 136,
   "metadata": {},
   "outputs": [],
   "source": [
    "ts = pd.Series(np.random.randn(len(rng)), index = rng)"
   ]
  },
  {
   "cell_type": "code",
   "execution_count": 137,
   "metadata": {},
   "outputs": [
    {
     "data": {
      "text/plain": [
       "2006    0.342144\n",
       "2007   -0.441649\n",
       "2008    1.057731\n",
       "2009    0.002323\n",
       "Freq: A-DEC, dtype: float64"
      ]
     },
     "execution_count": 137,
     "metadata": {},
     "output_type": "execute_result"
    }
   ],
   "source": [
    "ts"
   ]
  },
  {
   "cell_type": "code",
   "execution_count": 140,
   "metadata": {},
   "outputs": [
    {
     "data": {
      "text/plain": [
       "2006-01    0.342144\n",
       "2007-01   -0.441649\n",
       "2008-01    1.057731\n",
       "2009-01    0.002323\n",
       "Freq: M, dtype: float64"
      ]
     },
     "execution_count": 140,
     "metadata": {},
     "output_type": "execute_result"
    }
   ],
   "source": [
    "ts.asfreq('M', how = 'start')"
   ]
  },
  {
   "cell_type": "code",
   "execution_count": 141,
   "metadata": {},
   "outputs": [
    {
     "data": {
      "text/plain": [
       "2006-12    0.342144\n",
       "2007-12   -0.441649\n",
       "2008-12    1.057731\n",
       "2009-12    0.002323\n",
       "Freq: M, dtype: float64"
      ]
     },
     "execution_count": 141,
     "metadata": {},
     "output_type": "execute_result"
    }
   ],
   "source": [
    "ts.asfreq('M', how = 'end')"
   ]
  },
  {
   "cell_type": "markdown",
   "metadata": {},
   "source": [
    "### Quarterly Period Frequencies"
   ]
  },
  {
   "cell_type": "code",
   "execution_count": 147,
   "metadata": {},
   "outputs": [],
   "source": [
    "p = pd.Period('2012Q4', freq='Q-JAN')"
   ]
  },
  {
   "cell_type": "code",
   "execution_count": 148,
   "metadata": {},
   "outputs": [
    {
     "data": {
      "text/plain": [
       "Period('2012Q4', 'Q-JAN')"
      ]
     },
     "execution_count": 148,
     "metadata": {},
     "output_type": "execute_result"
    }
   ],
   "source": [
    "p"
   ]
  },
  {
   "cell_type": "code",
   "execution_count": 149,
   "metadata": {},
   "outputs": [
    {
     "data": {
      "text/plain": [
       "Period('2011-11-01', 'D')"
      ]
     },
     "execution_count": 149,
     "metadata": {},
     "output_type": "execute_result"
    }
   ],
   "source": [
    "p.asfreq('D', 'start')"
   ]
  },
  {
   "cell_type": "code",
   "execution_count": 150,
   "metadata": {},
   "outputs": [
    {
     "data": {
      "text/plain": [
       "Period('2012-01-31', 'D')"
      ]
     },
     "execution_count": 150,
     "metadata": {},
     "output_type": "execute_result"
    }
   ],
   "source": [
    "p.asfreq('D', 'end')"
   ]
  },
  {
   "cell_type": "code",
   "execution_count": 151,
   "metadata": {},
   "outputs": [],
   "source": [
    "# get the timestamp at 4 PM on the second-to-last business day of the quarter\n",
    "p4pm = (p.asfreq('B', 'e') - 1).asfreq('T', 's') + 16 * 60"
   ]
  },
  {
   "cell_type": "code",
   "execution_count": 152,
   "metadata": {},
   "outputs": [
    {
     "data": {
      "text/plain": [
       "Period('2012-01-30 16:00', 'T')"
      ]
     },
     "execution_count": 152,
     "metadata": {},
     "output_type": "execute_result"
    }
   ],
   "source": [
    "p4pm"
   ]
  },
  {
   "cell_type": "code",
   "execution_count": 153,
   "metadata": {},
   "outputs": [
    {
     "data": {
      "text/plain": [
       "Timestamp('2012-01-30 16:00:00')"
      ]
     },
     "execution_count": 153,
     "metadata": {},
     "output_type": "execute_result"
    }
   ],
   "source": [
    "p4pm.to_timestamp()"
   ]
  },
  {
   "cell_type": "code",
   "execution_count": 155,
   "metadata": {},
   "outputs": [],
   "source": [
    "rng = pd.period_range('2011Q3', '2012Q4', freq = 'Q-JAN')"
   ]
  },
  {
   "cell_type": "code",
   "execution_count": 156,
   "metadata": {},
   "outputs": [],
   "source": [
    "ts = pd.Series(np.arange(len(rng)), index = rng)"
   ]
  },
  {
   "cell_type": "code",
   "execution_count": 157,
   "metadata": {},
   "outputs": [
    {
     "data": {
      "text/plain": [
       "2011Q3    0\n",
       "2011Q4    1\n",
       "2012Q1    2\n",
       "2012Q2    3\n",
       "2012Q3    4\n",
       "2012Q4    5\n",
       "Freq: Q-JAN, dtype: int32"
      ]
     },
     "execution_count": 157,
     "metadata": {},
     "output_type": "execute_result"
    }
   ],
   "source": [
    "ts"
   ]
  },
  {
   "cell_type": "markdown",
   "metadata": {},
   "source": [
    "### Converting Timestamps to Periods (and Back)"
   ]
  },
  {
   "cell_type": "code",
   "execution_count": 158,
   "metadata": {},
   "outputs": [],
   "source": [
    "rng = pd.date_range('2000-01-01', periods=3, freq='M')"
   ]
  },
  {
   "cell_type": "code",
   "execution_count": 159,
   "metadata": {},
   "outputs": [],
   "source": [
    "ts = pd.Series(np.random.randn(3), index=rng)"
   ]
  },
  {
   "cell_type": "code",
   "execution_count": 160,
   "metadata": {},
   "outputs": [
    {
     "data": {
      "text/plain": [
       "2000-01-31    0.323172\n",
       "2000-02-29   -0.326000\n",
       "2000-03-31    0.209808\n",
       "Freq: M, dtype: float64"
      ]
     },
     "execution_count": 160,
     "metadata": {},
     "output_type": "execute_result"
    }
   ],
   "source": [
    "ts"
   ]
  },
  {
   "cell_type": "code",
   "execution_count": 161,
   "metadata": {},
   "outputs": [],
   "source": [
    "pts = ts.to_period()"
   ]
  },
  {
   "cell_type": "code",
   "execution_count": 162,
   "metadata": {},
   "outputs": [
    {
     "data": {
      "text/plain": [
       "2000-01    0.323172\n",
       "2000-02   -0.326000\n",
       "2000-03    0.209808\n",
       "Freq: M, dtype: float64"
      ]
     },
     "execution_count": 162,
     "metadata": {},
     "output_type": "execute_result"
    }
   ],
   "source": [
    "pts"
   ]
  },
  {
   "cell_type": "code",
   "execution_count": 163,
   "metadata": {},
   "outputs": [],
   "source": [
    "# convert back\n",
    "# to_timestamp()"
   ]
  },
  {
   "cell_type": "markdown",
   "metadata": {},
   "source": [
    "### Creating a PeriodIndex from Arrays"
   ]
  },
  {
   "cell_type": "code",
   "execution_count": 164,
   "metadata": {},
   "outputs": [],
   "source": [
    "data = pd.read_csv('macrodata.csv')"
   ]
  },
  {
   "cell_type": "code",
   "execution_count": 165,
   "metadata": {},
   "outputs": [
    {
     "data": {
      "text/plain": [
       "0      1959.0\n",
       "1      1959.0\n",
       "2      1959.0\n",
       "3      1959.0\n",
       "4      1960.0\n",
       "5      1960.0\n",
       "6      1960.0\n",
       "7      1960.0\n",
       "8      1961.0\n",
       "9      1961.0\n",
       "10     1961.0\n",
       "11     1961.0\n",
       "12     1962.0\n",
       "13     1962.0\n",
       "14     1962.0\n",
       "15     1962.0\n",
       "16     1963.0\n",
       "17     1963.0\n",
       "18     1963.0\n",
       "19     1963.0\n",
       "20     1964.0\n",
       "21     1964.0\n",
       "22     1964.0\n",
       "23     1964.0\n",
       "24     1965.0\n",
       "25     1965.0\n",
       "26     1965.0\n",
       "27     1965.0\n",
       "28     1966.0\n",
       "29     1966.0\n",
       "        ...  \n",
       "173    2002.0\n",
       "174    2002.0\n",
       "175    2002.0\n",
       "176    2003.0\n",
       "177    2003.0\n",
       "178    2003.0\n",
       "179    2003.0\n",
       "180    2004.0\n",
       "181    2004.0\n",
       "182    2004.0\n",
       "183    2004.0\n",
       "184    2005.0\n",
       "185    2005.0\n",
       "186    2005.0\n",
       "187    2005.0\n",
       "188    2006.0\n",
       "189    2006.0\n",
       "190    2006.0\n",
       "191    2006.0\n",
       "192    2007.0\n",
       "193    2007.0\n",
       "194    2007.0\n",
       "195    2007.0\n",
       "196    2008.0\n",
       "197    2008.0\n",
       "198    2008.0\n",
       "199    2008.0\n",
       "200    2009.0\n",
       "201    2009.0\n",
       "202    2009.0\n",
       "Name: year, Length: 203, dtype: float64"
      ]
     },
     "execution_count": 165,
     "metadata": {},
     "output_type": "execute_result"
    }
   ],
   "source": [
    "data.year"
   ]
  },
  {
   "cell_type": "code",
   "execution_count": 166,
   "metadata": {},
   "outputs": [
    {
     "data": {
      "text/plain": [
       "0      1.0\n",
       "1      2.0\n",
       "2      3.0\n",
       "3      4.0\n",
       "4      1.0\n",
       "5      2.0\n",
       "6      3.0\n",
       "7      4.0\n",
       "8      1.0\n",
       "9      2.0\n",
       "10     3.0\n",
       "11     4.0\n",
       "12     1.0\n",
       "13     2.0\n",
       "14     3.0\n",
       "15     4.0\n",
       "16     1.0\n",
       "17     2.0\n",
       "18     3.0\n",
       "19     4.0\n",
       "20     1.0\n",
       "21     2.0\n",
       "22     3.0\n",
       "23     4.0\n",
       "24     1.0\n",
       "25     2.0\n",
       "26     3.0\n",
       "27     4.0\n",
       "28     1.0\n",
       "29     2.0\n",
       "      ... \n",
       "173    2.0\n",
       "174    3.0\n",
       "175    4.0\n",
       "176    1.0\n",
       "177    2.0\n",
       "178    3.0\n",
       "179    4.0\n",
       "180    1.0\n",
       "181    2.0\n",
       "182    3.0\n",
       "183    4.0\n",
       "184    1.0\n",
       "185    2.0\n",
       "186    3.0\n",
       "187    4.0\n",
       "188    1.0\n",
       "189    2.0\n",
       "190    3.0\n",
       "191    4.0\n",
       "192    1.0\n",
       "193    2.0\n",
       "194    3.0\n",
       "195    4.0\n",
       "196    1.0\n",
       "197    2.0\n",
       "198    3.0\n",
       "199    4.0\n",
       "200    1.0\n",
       "201    2.0\n",
       "202    3.0\n",
       "Name: quarter, Length: 203, dtype: float64"
      ]
     },
     "execution_count": 166,
     "metadata": {},
     "output_type": "execute_result"
    }
   ],
   "source": [
    "data.quarter"
   ]
  },
  {
   "cell_type": "code",
   "execution_count": 167,
   "metadata": {},
   "outputs": [],
   "source": [
    "index = pd.PeriodIndex(year = data.year, quarter = data.quarter, freq = 'Q-DEC')"
   ]
  },
  {
   "cell_type": "code",
   "execution_count": 168,
   "metadata": {},
   "outputs": [
    {
     "data": {
      "text/plain": [
       "PeriodIndex(['1959Q1', '1959Q2', '1959Q3', '1959Q4', '1960Q1', '1960Q2',\n",
       "             '1960Q3', '1960Q4', '1961Q1', '1961Q2',\n",
       "             ...\n",
       "             '2007Q2', '2007Q3', '2007Q4', '2008Q1', '2008Q2', '2008Q3',\n",
       "             '2008Q4', '2009Q1', '2009Q2', '2009Q3'],\n",
       "            dtype='period[Q-DEC]', length=203, freq='Q-DEC')"
      ]
     },
     "execution_count": 168,
     "metadata": {},
     "output_type": "execute_result"
    }
   ],
   "source": [
    "index"
   ]
  },
  {
   "cell_type": "code",
   "execution_count": 169,
   "metadata": {},
   "outputs": [],
   "source": [
    "data.index = index"
   ]
  },
  {
   "cell_type": "code",
   "execution_count": 170,
   "metadata": {},
   "outputs": [
    {
     "data": {
      "text/plain": [
       "1959Q1    0.00\n",
       "1959Q2    2.34\n",
       "1959Q3    2.74\n",
       "1959Q4    0.27\n",
       "1960Q1    2.31\n",
       "1960Q2    0.14\n",
       "1960Q3    2.70\n",
       "1960Q4    1.21\n",
       "1961Q1   -0.40\n",
       "1961Q2    1.47\n",
       "1961Q3    0.80\n",
       "1961Q4    0.80\n",
       "1962Q1    2.26\n",
       "1962Q2    0.13\n",
       "1962Q3    2.11\n",
       "1962Q4    0.79\n",
       "1963Q1    0.53\n",
       "1963Q2    2.75\n",
       "1963Q3    0.78\n",
       "1963Q4    2.46\n",
       "1964Q1    0.13\n",
       "1964Q2    0.90\n",
       "1964Q3    1.29\n",
       "1964Q4    2.05\n",
       "1965Q1    1.28\n",
       "1965Q2    2.54\n",
       "1965Q3    0.89\n",
       "1965Q4    2.90\n",
       "1966Q1    4.99\n",
       "1966Q2    2.10\n",
       "          ... \n",
       "2002Q2    1.56\n",
       "2002Q3    2.66\n",
       "2002Q4    3.08\n",
       "2003Q1    1.31\n",
       "2003Q2    1.09\n",
       "2003Q3    2.60\n",
       "2003Q4    3.02\n",
       "2004Q1    2.35\n",
       "2004Q2    3.61\n",
       "2004Q3    3.58\n",
       "2004Q4    2.09\n",
       "2005Q1    4.15\n",
       "2005Q2    1.85\n",
       "2005Q3    9.14\n",
       "2005Q4    0.40\n",
       "2006Q1    2.60\n",
       "2006Q2    3.97\n",
       "2006Q3   -1.58\n",
       "2006Q4    3.30\n",
       "2007Q1    4.58\n",
       "2007Q2    2.75\n",
       "2007Q3    3.45\n",
       "2007Q4    6.38\n",
       "2008Q1    2.82\n",
       "2008Q2    8.53\n",
       "2008Q3   -3.16\n",
       "2008Q4   -8.79\n",
       "2009Q1    0.94\n",
       "2009Q2    3.37\n",
       "2009Q3    3.56\n",
       "Freq: Q-DEC, Name: infl, Length: 203, dtype: float64"
      ]
     },
     "execution_count": 170,
     "metadata": {},
     "output_type": "execute_result"
    }
   ],
   "source": [
    "data.infl"
   ]
  },
  {
   "cell_type": "markdown",
   "metadata": {},
   "source": [
    "## 11.6 Resampling and Frequency Conversion"
   ]
  },
  {
   "cell_type": "code",
   "execution_count": 171,
   "metadata": {},
   "outputs": [],
   "source": [
    "# resampling: the proces  of converting a ts from one frequency to another"
   ]
  },
  {
   "cell_type": "code",
   "execution_count": 172,
   "metadata": {},
   "outputs": [],
   "source": [
    "rng = pd.date_range('2000-01-01', periods = 100, freq = 'D')"
   ]
  },
  {
   "cell_type": "code",
   "execution_count": 173,
   "metadata": {},
   "outputs": [],
   "source": [
    "ts = pd.Series(np.random.randn(len(rng)), index = rng)"
   ]
  },
  {
   "cell_type": "code",
   "execution_count": 174,
   "metadata": {},
   "outputs": [
    {
     "data": {
      "text/plain": [
       "2000-01-01   -2.219312\n",
       "2000-01-02   -0.111805\n",
       "2000-01-03    1.723921\n",
       "2000-01-04   -1.521164\n",
       "2000-01-05   -0.109491\n",
       "2000-01-06    2.235237\n",
       "2000-01-07    0.449647\n",
       "2000-01-08   -0.230898\n",
       "2000-01-09    0.197007\n",
       "2000-01-10    1.016743\n",
       "2000-01-11   -0.479859\n",
       "2000-01-12    1.158005\n",
       "2000-01-13    0.420703\n",
       "2000-01-14    2.387174\n",
       "2000-01-15    0.122527\n",
       "2000-01-16    1.094183\n",
       "2000-01-17   -0.759520\n",
       "2000-01-18    1.347503\n",
       "2000-01-19    0.455947\n",
       "2000-01-20   -0.655133\n",
       "2000-01-21   -0.033031\n",
       "2000-01-22    1.607563\n",
       "2000-01-23   -0.815231\n",
       "2000-01-24    0.401489\n",
       "2000-01-25   -0.798523\n",
       "2000-01-26    0.130971\n",
       "2000-01-27    1.899098\n",
       "2000-01-28   -0.124658\n",
       "2000-01-29   -0.104150\n",
       "2000-01-30    0.526107\n",
       "                ...   \n",
       "2000-03-11   -0.100881\n",
       "2000-03-12   -0.858831\n",
       "2000-03-13   -1.588708\n",
       "2000-03-14   -1.186572\n",
       "2000-03-15   -0.766459\n",
       "2000-03-16    0.296405\n",
       "2000-03-17    1.434422\n",
       "2000-03-18    0.837054\n",
       "2000-03-19    1.242232\n",
       "2000-03-20    0.057652\n",
       "2000-03-21    1.169874\n",
       "2000-03-22   -0.729386\n",
       "2000-03-23    0.853897\n",
       "2000-03-24   -1.158890\n",
       "2000-03-25   -0.963452\n",
       "2000-03-26    1.119706\n",
       "2000-03-27   -0.025617\n",
       "2000-03-28    0.636260\n",
       "2000-03-29   -0.724655\n",
       "2000-03-30    0.062214\n",
       "2000-03-31   -0.466618\n",
       "2000-04-01   -0.418080\n",
       "2000-04-02    0.869730\n",
       "2000-04-03   -2.250470\n",
       "2000-04-04   -0.894497\n",
       "2000-04-05   -0.833213\n",
       "2000-04-06   -0.282686\n",
       "2000-04-07   -0.179297\n",
       "2000-04-08   -1.484674\n",
       "2000-04-09   -0.619439\n",
       "Freq: D, Length: 100, dtype: float64"
      ]
     },
     "execution_count": 174,
     "metadata": {},
     "output_type": "execute_result"
    }
   ],
   "source": [
    "ts"
   ]
  },
  {
   "cell_type": "code",
   "execution_count": 175,
   "metadata": {},
   "outputs": [
    {
     "data": {
      "text/plain": [
       "DatetimeIndexResampler [freq=<MonthEnd>, axis=0, closed=right, label=right, convention=start, base=0]"
      ]
     },
     "execution_count": 175,
     "metadata": {},
     "output_type": "execute_result"
    }
   ],
   "source": [
    "ts.resample('M')"
   ]
  },
  {
   "cell_type": "code",
   "execution_count": 176,
   "metadata": {},
   "outputs": [
    {
     "data": {
      "text/plain": [
       "2000-01-31    0.305629\n",
       "2000-02-29    0.123407\n",
       "2000-03-31    0.036752\n",
       "2000-04-30   -0.676959\n",
       "Freq: M, dtype: float64"
      ]
     },
     "execution_count": 176,
     "metadata": {},
     "output_type": "execute_result"
    }
   ],
   "source": [
    "ts.resample('M').mean()"
   ]
  },
  {
   "cell_type": "code",
   "execution_count": 177,
   "metadata": {},
   "outputs": [
    {
     "data": {
      "text/plain": [
       "2000-01    0.305629\n",
       "2000-02    0.123407\n",
       "2000-03    0.036752\n",
       "2000-04   -0.676959\n",
       "Freq: M, dtype: float64"
      ]
     },
     "execution_count": 177,
     "metadata": {},
     "output_type": "execute_result"
    }
   ],
   "source": [
    "ts.resample('M', kind='period').mean()"
   ]
  },
  {
   "cell_type": "markdown",
   "metadata": {},
   "source": [
    "### Downsampling"
   ]
  },
  {
   "cell_type": "code",
   "execution_count": 178,
   "metadata": {},
   "outputs": [],
   "source": [
    "rng = pd.date_range('2000-01-01', periods = 12, freq = 'T')"
   ]
  },
  {
   "cell_type": "code",
   "execution_count": 179,
   "metadata": {},
   "outputs": [],
   "source": [
    "ts = pd.Series(np.arange(12), index = rng)"
   ]
  },
  {
   "cell_type": "code",
   "execution_count": 180,
   "metadata": {},
   "outputs": [
    {
     "data": {
      "text/plain": [
       "2000-01-01 00:00:00     0\n",
       "2000-01-01 00:01:00     1\n",
       "2000-01-01 00:02:00     2\n",
       "2000-01-01 00:03:00     3\n",
       "2000-01-01 00:04:00     4\n",
       "2000-01-01 00:05:00     5\n",
       "2000-01-01 00:06:00     6\n",
       "2000-01-01 00:07:00     7\n",
       "2000-01-01 00:08:00     8\n",
       "2000-01-01 00:09:00     9\n",
       "2000-01-01 00:10:00    10\n",
       "2000-01-01 00:11:00    11\n",
       "Freq: T, dtype: int32"
      ]
     },
     "execution_count": 180,
     "metadata": {},
     "output_type": "execute_result"
    }
   ],
   "source": [
    "ts"
   ]
  },
  {
   "cell_type": "code",
   "execution_count": 182,
   "metadata": {},
   "outputs": [
    {
     "data": {
      "text/plain": [
       "2000-01-01 00:00:00    10\n",
       "2000-01-01 00:05:00    35\n",
       "2000-01-01 00:10:00    21\n",
       "Freq: 5T, dtype: int32"
      ]
     },
     "execution_count": 182,
     "metadata": {},
     "output_type": "execute_result"
    }
   ],
   "source": [
    "ts.resample('5min').sum()"
   ]
  },
  {
   "cell_type": "code",
   "execution_count": 183,
   "metadata": {},
   "outputs": [
    {
     "data": {
      "text/plain": [
       "1999-12-31 23:55:00     0\n",
       "2000-01-01 00:00:00    15\n",
       "2000-01-01 00:05:00    40\n",
       "2000-01-01 00:10:00    11\n",
       "Freq: 5T, dtype: int32"
      ]
     },
     "execution_count": 183,
     "metadata": {},
     "output_type": "execute_result"
    }
   ],
   "source": [
    "ts.resample('5min', closed = 'right').sum()"
   ]
  },
  {
   "cell_type": "code",
   "execution_count": 184,
   "metadata": {},
   "outputs": [
    {
     "data": {
      "text/plain": [
       "2000-01-01 00:00:00     0\n",
       "2000-01-01 00:05:00    15\n",
       "2000-01-01 00:10:00    40\n",
       "2000-01-01 00:15:00    11\n",
       "Freq: 5T, dtype: int32"
      ]
     },
     "execution_count": 184,
     "metadata": {},
     "output_type": "execute_result"
    }
   ],
   "source": [
    "ts.resample('5min', closed = 'right', label = 'right').sum()"
   ]
  },
  {
   "cell_type": "code",
   "execution_count": 185,
   "metadata": {},
   "outputs": [
    {
     "data": {
      "text/plain": [
       "1999-12-31 23:59:59     0\n",
       "2000-01-01 00:04:59    15\n",
       "2000-01-01 00:09:59    40\n",
       "2000-01-01 00:14:59    11\n",
       "Freq: 5T, dtype: int32"
      ]
     },
     "execution_count": 185,
     "metadata": {},
     "output_type": "execute_result"
    }
   ],
   "source": [
    "ts.resample('5min', closed = 'right', label = 'right', loffset = '-1s').sum()"
   ]
  },
  {
   "cell_type": "markdown",
   "metadata": {},
   "source": [
    "### Open-High-Low-Close (OHLC) resampling"
   ]
  },
  {
   "cell_type": "code",
   "execution_count": 186,
   "metadata": {},
   "outputs": [
    {
     "data": {
      "text/html": [
       "<div>\n",
       "<style scoped>\n",
       "    .dataframe tbody tr th:only-of-type {\n",
       "        vertical-align: middle;\n",
       "    }\n",
       "\n",
       "    .dataframe tbody tr th {\n",
       "        vertical-align: top;\n",
       "    }\n",
       "\n",
       "    .dataframe thead th {\n",
       "        text-align: right;\n",
       "    }\n",
       "</style>\n",
       "<table border=\"1\" class=\"dataframe\">\n",
       "  <thead>\n",
       "    <tr style=\"text-align: right;\">\n",
       "      <th></th>\n",
       "      <th>open</th>\n",
       "      <th>high</th>\n",
       "      <th>low</th>\n",
       "      <th>close</th>\n",
       "    </tr>\n",
       "  </thead>\n",
       "  <tbody>\n",
       "    <tr>\n",
       "      <th>2000-01-01 00:00:00</th>\n",
       "      <td>0</td>\n",
       "      <td>4</td>\n",
       "      <td>0</td>\n",
       "      <td>4</td>\n",
       "    </tr>\n",
       "    <tr>\n",
       "      <th>2000-01-01 00:05:00</th>\n",
       "      <td>5</td>\n",
       "      <td>9</td>\n",
       "      <td>5</td>\n",
       "      <td>9</td>\n",
       "    </tr>\n",
       "    <tr>\n",
       "      <th>2000-01-01 00:10:00</th>\n",
       "      <td>10</td>\n",
       "      <td>11</td>\n",
       "      <td>10</td>\n",
       "      <td>11</td>\n",
       "    </tr>\n",
       "  </tbody>\n",
       "</table>\n",
       "</div>"
      ],
      "text/plain": [
       "                     open  high  low  close\n",
       "2000-01-01 00:00:00     0     4    0      4\n",
       "2000-01-01 00:05:00     5     9    5      9\n",
       "2000-01-01 00:10:00    10    11   10     11"
      ]
     },
     "execution_count": 186,
     "metadata": {},
     "output_type": "execute_result"
    }
   ],
   "source": [
    "# open: first, close: last, high: max, low: min\n",
    "ts.resample('5min').ohlc()"
   ]
  },
  {
   "cell_type": "markdown",
   "metadata": {},
   "source": [
    "### Upsampling and Interpolation"
   ]
  },
  {
   "cell_type": "code",
   "execution_count": 187,
   "metadata": {},
   "outputs": [],
   "source": [
    "frame = pd.DataFrame(np.random.randn(2, 4),\n",
    ".....: index=pd.date_range('1/1/2000', periods=2,\n",
    ".....: freq='W-WED'),\n",
    ".....: columns=['Colorado', 'Texas', 'New York', 'Ohio'])"
   ]
  },
  {
   "cell_type": "code",
   "execution_count": 188,
   "metadata": {},
   "outputs": [
    {
     "data": {
      "text/html": [
       "<div>\n",
       "<style scoped>\n",
       "    .dataframe tbody tr th:only-of-type {\n",
       "        vertical-align: middle;\n",
       "    }\n",
       "\n",
       "    .dataframe tbody tr th {\n",
       "        vertical-align: top;\n",
       "    }\n",
       "\n",
       "    .dataframe thead th {\n",
       "        text-align: right;\n",
       "    }\n",
       "</style>\n",
       "<table border=\"1\" class=\"dataframe\">\n",
       "  <thead>\n",
       "    <tr style=\"text-align: right;\">\n",
       "      <th></th>\n",
       "      <th>Colorado</th>\n",
       "      <th>Texas</th>\n",
       "      <th>New York</th>\n",
       "      <th>Ohio</th>\n",
       "    </tr>\n",
       "  </thead>\n",
       "  <tbody>\n",
       "    <tr>\n",
       "      <th>2000-01-05</th>\n",
       "      <td>-0.963651</td>\n",
       "      <td>-1.852467</td>\n",
       "      <td>2.055128</td>\n",
       "      <td>-1.102284</td>\n",
       "    </tr>\n",
       "    <tr>\n",
       "      <th>2000-01-12</th>\n",
       "      <td>-0.309218</td>\n",
       "      <td>0.988291</td>\n",
       "      <td>1.142196</td>\n",
       "      <td>-0.021073</td>\n",
       "    </tr>\n",
       "  </tbody>\n",
       "</table>\n",
       "</div>"
      ],
      "text/plain": [
       "            Colorado     Texas  New York      Ohio\n",
       "2000-01-05 -0.963651 -1.852467  2.055128 -1.102284\n",
       "2000-01-12 -0.309218  0.988291  1.142196 -0.021073"
      ]
     },
     "execution_count": 188,
     "metadata": {},
     "output_type": "execute_result"
    }
   ],
   "source": [
    "frame"
   ]
  },
  {
   "cell_type": "code",
   "execution_count": 191,
   "metadata": {},
   "outputs": [],
   "source": [
    "df_daily = frame.resample('D').asfreq()"
   ]
  },
  {
   "cell_type": "code",
   "execution_count": 192,
   "metadata": {},
   "outputs": [
    {
     "data": {
      "text/html": [
       "<div>\n",
       "<style scoped>\n",
       "    .dataframe tbody tr th:only-of-type {\n",
       "        vertical-align: middle;\n",
       "    }\n",
       "\n",
       "    .dataframe tbody tr th {\n",
       "        vertical-align: top;\n",
       "    }\n",
       "\n",
       "    .dataframe thead th {\n",
       "        text-align: right;\n",
       "    }\n",
       "</style>\n",
       "<table border=\"1\" class=\"dataframe\">\n",
       "  <thead>\n",
       "    <tr style=\"text-align: right;\">\n",
       "      <th></th>\n",
       "      <th>Colorado</th>\n",
       "      <th>Texas</th>\n",
       "      <th>New York</th>\n",
       "      <th>Ohio</th>\n",
       "    </tr>\n",
       "  </thead>\n",
       "  <tbody>\n",
       "    <tr>\n",
       "      <th>2000-01-05</th>\n",
       "      <td>-0.963651</td>\n",
       "      <td>-1.852467</td>\n",
       "      <td>2.055128</td>\n",
       "      <td>-1.102284</td>\n",
       "    </tr>\n",
       "    <tr>\n",
       "      <th>2000-01-06</th>\n",
       "      <td>NaN</td>\n",
       "      <td>NaN</td>\n",
       "      <td>NaN</td>\n",
       "      <td>NaN</td>\n",
       "    </tr>\n",
       "    <tr>\n",
       "      <th>2000-01-07</th>\n",
       "      <td>NaN</td>\n",
       "      <td>NaN</td>\n",
       "      <td>NaN</td>\n",
       "      <td>NaN</td>\n",
       "    </tr>\n",
       "    <tr>\n",
       "      <th>2000-01-08</th>\n",
       "      <td>NaN</td>\n",
       "      <td>NaN</td>\n",
       "      <td>NaN</td>\n",
       "      <td>NaN</td>\n",
       "    </tr>\n",
       "    <tr>\n",
       "      <th>2000-01-09</th>\n",
       "      <td>NaN</td>\n",
       "      <td>NaN</td>\n",
       "      <td>NaN</td>\n",
       "      <td>NaN</td>\n",
       "    </tr>\n",
       "    <tr>\n",
       "      <th>2000-01-10</th>\n",
       "      <td>NaN</td>\n",
       "      <td>NaN</td>\n",
       "      <td>NaN</td>\n",
       "      <td>NaN</td>\n",
       "    </tr>\n",
       "    <tr>\n",
       "      <th>2000-01-11</th>\n",
       "      <td>NaN</td>\n",
       "      <td>NaN</td>\n",
       "      <td>NaN</td>\n",
       "      <td>NaN</td>\n",
       "    </tr>\n",
       "    <tr>\n",
       "      <th>2000-01-12</th>\n",
       "      <td>-0.309218</td>\n",
       "      <td>0.988291</td>\n",
       "      <td>1.142196</td>\n",
       "      <td>-0.021073</td>\n",
       "    </tr>\n",
       "  </tbody>\n",
       "</table>\n",
       "</div>"
      ],
      "text/plain": [
       "            Colorado     Texas  New York      Ohio\n",
       "2000-01-05 -0.963651 -1.852467  2.055128 -1.102284\n",
       "2000-01-06       NaN       NaN       NaN       NaN\n",
       "2000-01-07       NaN       NaN       NaN       NaN\n",
       "2000-01-08       NaN       NaN       NaN       NaN\n",
       "2000-01-09       NaN       NaN       NaN       NaN\n",
       "2000-01-10       NaN       NaN       NaN       NaN\n",
       "2000-01-11       NaN       NaN       NaN       NaN\n",
       "2000-01-12 -0.309218  0.988291  1.142196 -0.021073"
      ]
     },
     "execution_count": 192,
     "metadata": {},
     "output_type": "execute_result"
    }
   ],
   "source": [
    "df_daily"
   ]
  },
  {
   "cell_type": "code",
   "execution_count": 193,
   "metadata": {},
   "outputs": [
    {
     "data": {
      "text/html": [
       "<div>\n",
       "<style scoped>\n",
       "    .dataframe tbody tr th:only-of-type {\n",
       "        vertical-align: middle;\n",
       "    }\n",
       "\n",
       "    .dataframe tbody tr th {\n",
       "        vertical-align: top;\n",
       "    }\n",
       "\n",
       "    .dataframe thead th {\n",
       "        text-align: right;\n",
       "    }\n",
       "</style>\n",
       "<table border=\"1\" class=\"dataframe\">\n",
       "  <thead>\n",
       "    <tr style=\"text-align: right;\">\n",
       "      <th></th>\n",
       "      <th>Colorado</th>\n",
       "      <th>Texas</th>\n",
       "      <th>New York</th>\n",
       "      <th>Ohio</th>\n",
       "    </tr>\n",
       "  </thead>\n",
       "  <tbody>\n",
       "    <tr>\n",
       "      <th>2000-01-05</th>\n",
       "      <td>-0.963651</td>\n",
       "      <td>-1.852467</td>\n",
       "      <td>2.055128</td>\n",
       "      <td>-1.102284</td>\n",
       "    </tr>\n",
       "    <tr>\n",
       "      <th>2000-01-06</th>\n",
       "      <td>-0.963651</td>\n",
       "      <td>-1.852467</td>\n",
       "      <td>2.055128</td>\n",
       "      <td>-1.102284</td>\n",
       "    </tr>\n",
       "    <tr>\n",
       "      <th>2000-01-07</th>\n",
       "      <td>-0.963651</td>\n",
       "      <td>-1.852467</td>\n",
       "      <td>2.055128</td>\n",
       "      <td>-1.102284</td>\n",
       "    </tr>\n",
       "    <tr>\n",
       "      <th>2000-01-08</th>\n",
       "      <td>-0.963651</td>\n",
       "      <td>-1.852467</td>\n",
       "      <td>2.055128</td>\n",
       "      <td>-1.102284</td>\n",
       "    </tr>\n",
       "    <tr>\n",
       "      <th>2000-01-09</th>\n",
       "      <td>-0.963651</td>\n",
       "      <td>-1.852467</td>\n",
       "      <td>2.055128</td>\n",
       "      <td>-1.102284</td>\n",
       "    </tr>\n",
       "    <tr>\n",
       "      <th>2000-01-10</th>\n",
       "      <td>-0.963651</td>\n",
       "      <td>-1.852467</td>\n",
       "      <td>2.055128</td>\n",
       "      <td>-1.102284</td>\n",
       "    </tr>\n",
       "    <tr>\n",
       "      <th>2000-01-11</th>\n",
       "      <td>-0.963651</td>\n",
       "      <td>-1.852467</td>\n",
       "      <td>2.055128</td>\n",
       "      <td>-1.102284</td>\n",
       "    </tr>\n",
       "    <tr>\n",
       "      <th>2000-01-12</th>\n",
       "      <td>-0.309218</td>\n",
       "      <td>0.988291</td>\n",
       "      <td>1.142196</td>\n",
       "      <td>-0.021073</td>\n",
       "    </tr>\n",
       "  </tbody>\n",
       "</table>\n",
       "</div>"
      ],
      "text/plain": [
       "            Colorado     Texas  New York      Ohio\n",
       "2000-01-05 -0.963651 -1.852467  2.055128 -1.102284\n",
       "2000-01-06 -0.963651 -1.852467  2.055128 -1.102284\n",
       "2000-01-07 -0.963651 -1.852467  2.055128 -1.102284\n",
       "2000-01-08 -0.963651 -1.852467  2.055128 -1.102284\n",
       "2000-01-09 -0.963651 -1.852467  2.055128 -1.102284\n",
       "2000-01-10 -0.963651 -1.852467  2.055128 -1.102284\n",
       "2000-01-11 -0.963651 -1.852467  2.055128 -1.102284\n",
       "2000-01-12 -0.309218  0.988291  1.142196 -0.021073"
      ]
     },
     "execution_count": 193,
     "metadata": {},
     "output_type": "execute_result"
    }
   ],
   "source": [
    "frame.resample('D').ffill()"
   ]
  },
  {
   "cell_type": "code",
   "execution_count": 194,
   "metadata": {},
   "outputs": [
    {
     "data": {
      "text/html": [
       "<div>\n",
       "<style scoped>\n",
       "    .dataframe tbody tr th:only-of-type {\n",
       "        vertical-align: middle;\n",
       "    }\n",
       "\n",
       "    .dataframe tbody tr th {\n",
       "        vertical-align: top;\n",
       "    }\n",
       "\n",
       "    .dataframe thead th {\n",
       "        text-align: right;\n",
       "    }\n",
       "</style>\n",
       "<table border=\"1\" class=\"dataframe\">\n",
       "  <thead>\n",
       "    <tr style=\"text-align: right;\">\n",
       "      <th></th>\n",
       "      <th>Colorado</th>\n",
       "      <th>Texas</th>\n",
       "      <th>New York</th>\n",
       "      <th>Ohio</th>\n",
       "    </tr>\n",
       "  </thead>\n",
       "  <tbody>\n",
       "    <tr>\n",
       "      <th>2000-01-05</th>\n",
       "      <td>-0.963651</td>\n",
       "      <td>-1.852467</td>\n",
       "      <td>2.055128</td>\n",
       "      <td>-1.102284</td>\n",
       "    </tr>\n",
       "    <tr>\n",
       "      <th>2000-01-06</th>\n",
       "      <td>-0.963651</td>\n",
       "      <td>-1.852467</td>\n",
       "      <td>2.055128</td>\n",
       "      <td>-1.102284</td>\n",
       "    </tr>\n",
       "    <tr>\n",
       "      <th>2000-01-07</th>\n",
       "      <td>-0.963651</td>\n",
       "      <td>-1.852467</td>\n",
       "      <td>2.055128</td>\n",
       "      <td>-1.102284</td>\n",
       "    </tr>\n",
       "    <tr>\n",
       "      <th>2000-01-08</th>\n",
       "      <td>NaN</td>\n",
       "      <td>NaN</td>\n",
       "      <td>NaN</td>\n",
       "      <td>NaN</td>\n",
       "    </tr>\n",
       "    <tr>\n",
       "      <th>2000-01-09</th>\n",
       "      <td>NaN</td>\n",
       "      <td>NaN</td>\n",
       "      <td>NaN</td>\n",
       "      <td>NaN</td>\n",
       "    </tr>\n",
       "    <tr>\n",
       "      <th>2000-01-10</th>\n",
       "      <td>NaN</td>\n",
       "      <td>NaN</td>\n",
       "      <td>NaN</td>\n",
       "      <td>NaN</td>\n",
       "    </tr>\n",
       "    <tr>\n",
       "      <th>2000-01-11</th>\n",
       "      <td>NaN</td>\n",
       "      <td>NaN</td>\n",
       "      <td>NaN</td>\n",
       "      <td>NaN</td>\n",
       "    </tr>\n",
       "    <tr>\n",
       "      <th>2000-01-12</th>\n",
       "      <td>-0.309218</td>\n",
       "      <td>0.988291</td>\n",
       "      <td>1.142196</td>\n",
       "      <td>-0.021073</td>\n",
       "    </tr>\n",
       "  </tbody>\n",
       "</table>\n",
       "</div>"
      ],
      "text/plain": [
       "            Colorado     Texas  New York      Ohio\n",
       "2000-01-05 -0.963651 -1.852467  2.055128 -1.102284\n",
       "2000-01-06 -0.963651 -1.852467  2.055128 -1.102284\n",
       "2000-01-07 -0.963651 -1.852467  2.055128 -1.102284\n",
       "2000-01-08       NaN       NaN       NaN       NaN\n",
       "2000-01-09       NaN       NaN       NaN       NaN\n",
       "2000-01-10       NaN       NaN       NaN       NaN\n",
       "2000-01-11       NaN       NaN       NaN       NaN\n",
       "2000-01-12 -0.309218  0.988291  1.142196 -0.021073"
      ]
     },
     "execution_count": 194,
     "metadata": {},
     "output_type": "execute_result"
    }
   ],
   "source": [
    "frame.resample('D').ffill(limit = 2)"
   ]
  },
  {
   "cell_type": "code",
   "execution_count": 195,
   "metadata": {},
   "outputs": [
    {
     "data": {
      "text/html": [
       "<div>\n",
       "<style scoped>\n",
       "    .dataframe tbody tr th:only-of-type {\n",
       "        vertical-align: middle;\n",
       "    }\n",
       "\n",
       "    .dataframe tbody tr th {\n",
       "        vertical-align: top;\n",
       "    }\n",
       "\n",
       "    .dataframe thead th {\n",
       "        text-align: right;\n",
       "    }\n",
       "</style>\n",
       "<table border=\"1\" class=\"dataframe\">\n",
       "  <thead>\n",
       "    <tr style=\"text-align: right;\">\n",
       "      <th></th>\n",
       "      <th>Colorado</th>\n",
       "      <th>Texas</th>\n",
       "      <th>New York</th>\n",
       "      <th>Ohio</th>\n",
       "    </tr>\n",
       "  </thead>\n",
       "  <tbody>\n",
       "    <tr>\n",
       "      <th>2000-01-06</th>\n",
       "      <td>-0.963651</td>\n",
       "      <td>-1.852467</td>\n",
       "      <td>2.055128</td>\n",
       "      <td>-1.102284</td>\n",
       "    </tr>\n",
       "    <tr>\n",
       "      <th>2000-01-13</th>\n",
       "      <td>-0.309218</td>\n",
       "      <td>0.988291</td>\n",
       "      <td>1.142196</td>\n",
       "      <td>-0.021073</td>\n",
       "    </tr>\n",
       "  </tbody>\n",
       "</table>\n",
       "</div>"
      ],
      "text/plain": [
       "            Colorado     Texas  New York      Ohio\n",
       "2000-01-06 -0.963651 -1.852467  2.055128 -1.102284\n",
       "2000-01-13 -0.309218  0.988291  1.142196 -0.021073"
      ]
     },
     "execution_count": 195,
     "metadata": {},
     "output_type": "execute_result"
    }
   ],
   "source": [
    "frame.resample('W-THU').ffill()"
   ]
  },
  {
   "cell_type": "markdown",
   "metadata": {},
   "source": [
    "### Resampling with Periods"
   ]
  },
  {
   "cell_type": "code",
   "execution_count": 203,
   "metadata": {},
   "outputs": [],
   "source": [
    "frame = pd.DataFrame(np.random.randn(24, 4), \n",
    "        index=pd.period_range('1-2000', '12-2001', \n",
    "        freq='M'), \n",
    "        columns=['Colorado', 'Texas', 'New York', 'Ohio'])\n"
   ]
  },
  {
   "cell_type": "code",
   "execution_count": 204,
   "metadata": {},
   "outputs": [
    {
     "data": {
      "text/html": [
       "<div>\n",
       "<style scoped>\n",
       "    .dataframe tbody tr th:only-of-type {\n",
       "        vertical-align: middle;\n",
       "    }\n",
       "\n",
       "    .dataframe tbody tr th {\n",
       "        vertical-align: top;\n",
       "    }\n",
       "\n",
       "    .dataframe thead th {\n",
       "        text-align: right;\n",
       "    }\n",
       "</style>\n",
       "<table border=\"1\" class=\"dataframe\">\n",
       "  <thead>\n",
       "    <tr style=\"text-align: right;\">\n",
       "      <th></th>\n",
       "      <th>Colorado</th>\n",
       "      <th>Texas</th>\n",
       "      <th>New York</th>\n",
       "      <th>Ohio</th>\n",
       "    </tr>\n",
       "  </thead>\n",
       "  <tbody>\n",
       "    <tr>\n",
       "      <th>2000-01</th>\n",
       "      <td>-0.733483</td>\n",
       "      <td>0.404829</td>\n",
       "      <td>0.637384</td>\n",
       "      <td>-0.038086</td>\n",
       "    </tr>\n",
       "    <tr>\n",
       "      <th>2000-02</th>\n",
       "      <td>1.957196</td>\n",
       "      <td>0.386407</td>\n",
       "      <td>0.323262</td>\n",
       "      <td>0.264900</td>\n",
       "    </tr>\n",
       "    <tr>\n",
       "      <th>2000-03</th>\n",
       "      <td>1.674406</td>\n",
       "      <td>1.926620</td>\n",
       "      <td>-1.161023</td>\n",
       "      <td>1.345201</td>\n",
       "    </tr>\n",
       "    <tr>\n",
       "      <th>2000-04</th>\n",
       "      <td>1.540595</td>\n",
       "      <td>-2.176932</td>\n",
       "      <td>-0.528958</td>\n",
       "      <td>-0.126677</td>\n",
       "    </tr>\n",
       "    <tr>\n",
       "      <th>2000-05</th>\n",
       "      <td>0.289473</td>\n",
       "      <td>1.177108</td>\n",
       "      <td>-0.284350</td>\n",
       "      <td>-0.900701</td>\n",
       "    </tr>\n",
       "    <tr>\n",
       "      <th>2000-06</th>\n",
       "      <td>-0.098127</td>\n",
       "      <td>-0.290812</td>\n",
       "      <td>2.538841</td>\n",
       "      <td>-1.659704</td>\n",
       "    </tr>\n",
       "    <tr>\n",
       "      <th>2000-07</th>\n",
       "      <td>-0.700866</td>\n",
       "      <td>-1.282477</td>\n",
       "      <td>0.369989</td>\n",
       "      <td>1.026747</td>\n",
       "    </tr>\n",
       "    <tr>\n",
       "      <th>2000-08</th>\n",
       "      <td>0.078441</td>\n",
       "      <td>1.225101</td>\n",
       "      <td>-0.763486</td>\n",
       "      <td>-0.203382</td>\n",
       "    </tr>\n",
       "    <tr>\n",
       "      <th>2000-09</th>\n",
       "      <td>0.504420</td>\n",
       "      <td>-2.207091</td>\n",
       "      <td>-1.794058</td>\n",
       "      <td>0.272179</td>\n",
       "    </tr>\n",
       "    <tr>\n",
       "      <th>2000-10</th>\n",
       "      <td>0.083960</td>\n",
       "      <td>0.284281</td>\n",
       "      <td>0.396642</td>\n",
       "      <td>0.740594</td>\n",
       "    </tr>\n",
       "    <tr>\n",
       "      <th>2000-11</th>\n",
       "      <td>-0.774428</td>\n",
       "      <td>0.109913</td>\n",
       "      <td>1.645496</td>\n",
       "      <td>-0.696641</td>\n",
       "    </tr>\n",
       "    <tr>\n",
       "      <th>2000-12</th>\n",
       "      <td>-1.408533</td>\n",
       "      <td>0.310142</td>\n",
       "      <td>2.538135</td>\n",
       "      <td>1.251741</td>\n",
       "    </tr>\n",
       "    <tr>\n",
       "      <th>2001-01</th>\n",
       "      <td>-0.307533</td>\n",
       "      <td>2.302310</td>\n",
       "      <td>-0.293410</td>\n",
       "      <td>-0.336207</td>\n",
       "    </tr>\n",
       "    <tr>\n",
       "      <th>2001-02</th>\n",
       "      <td>-0.408739</td>\n",
       "      <td>0.808646</td>\n",
       "      <td>1.477610</td>\n",
       "      <td>0.975377</td>\n",
       "    </tr>\n",
       "    <tr>\n",
       "      <th>2001-03</th>\n",
       "      <td>0.910652</td>\n",
       "      <td>1.093778</td>\n",
       "      <td>-0.495396</td>\n",
       "      <td>-1.316945</td>\n",
       "    </tr>\n",
       "    <tr>\n",
       "      <th>2001-04</th>\n",
       "      <td>-0.535654</td>\n",
       "      <td>-0.660464</td>\n",
       "      <td>0.747677</td>\n",
       "      <td>1.640919</td>\n",
       "    </tr>\n",
       "    <tr>\n",
       "      <th>2001-05</th>\n",
       "      <td>1.903866</td>\n",
       "      <td>1.178101</td>\n",
       "      <td>0.045196</td>\n",
       "      <td>1.365946</td>\n",
       "    </tr>\n",
       "    <tr>\n",
       "      <th>2001-06</th>\n",
       "      <td>0.422801</td>\n",
       "      <td>0.670444</td>\n",
       "      <td>1.367554</td>\n",
       "      <td>0.472071</td>\n",
       "    </tr>\n",
       "    <tr>\n",
       "      <th>2001-07</th>\n",
       "      <td>1.378109</td>\n",
       "      <td>-0.316284</td>\n",
       "      <td>0.139191</td>\n",
       "      <td>0.018661</td>\n",
       "    </tr>\n",
       "    <tr>\n",
       "      <th>2001-08</th>\n",
       "      <td>1.533725</td>\n",
       "      <td>-1.840359</td>\n",
       "      <td>-0.064219</td>\n",
       "      <td>-0.321102</td>\n",
       "    </tr>\n",
       "    <tr>\n",
       "      <th>2001-09</th>\n",
       "      <td>-0.258132</td>\n",
       "      <td>1.429465</td>\n",
       "      <td>-1.042264</td>\n",
       "      <td>-0.793603</td>\n",
       "    </tr>\n",
       "    <tr>\n",
       "      <th>2001-10</th>\n",
       "      <td>0.432105</td>\n",
       "      <td>-0.667360</td>\n",
       "      <td>-0.631020</td>\n",
       "      <td>-1.214992</td>\n",
       "    </tr>\n",
       "    <tr>\n",
       "      <th>2001-11</th>\n",
       "      <td>1.157743</td>\n",
       "      <td>2.084581</td>\n",
       "      <td>-0.703135</td>\n",
       "      <td>0.267048</td>\n",
       "    </tr>\n",
       "    <tr>\n",
       "      <th>2001-12</th>\n",
       "      <td>-0.298686</td>\n",
       "      <td>1.095900</td>\n",
       "      <td>0.663667</td>\n",
       "      <td>-1.684057</td>\n",
       "    </tr>\n",
       "  </tbody>\n",
       "</table>\n",
       "</div>"
      ],
      "text/plain": [
       "         Colorado     Texas  New York      Ohio\n",
       "2000-01 -0.733483  0.404829  0.637384 -0.038086\n",
       "2000-02  1.957196  0.386407  0.323262  0.264900\n",
       "2000-03  1.674406  1.926620 -1.161023  1.345201\n",
       "2000-04  1.540595 -2.176932 -0.528958 -0.126677\n",
       "2000-05  0.289473  1.177108 -0.284350 -0.900701\n",
       "2000-06 -0.098127 -0.290812  2.538841 -1.659704\n",
       "2000-07 -0.700866 -1.282477  0.369989  1.026747\n",
       "2000-08  0.078441  1.225101 -0.763486 -0.203382\n",
       "2000-09  0.504420 -2.207091 -1.794058  0.272179\n",
       "2000-10  0.083960  0.284281  0.396642  0.740594\n",
       "2000-11 -0.774428  0.109913  1.645496 -0.696641\n",
       "2000-12 -1.408533  0.310142  2.538135  1.251741\n",
       "2001-01 -0.307533  2.302310 -0.293410 -0.336207\n",
       "2001-02 -0.408739  0.808646  1.477610  0.975377\n",
       "2001-03  0.910652  1.093778 -0.495396 -1.316945\n",
       "2001-04 -0.535654 -0.660464  0.747677  1.640919\n",
       "2001-05  1.903866  1.178101  0.045196  1.365946\n",
       "2001-06  0.422801  0.670444  1.367554  0.472071\n",
       "2001-07  1.378109 -0.316284  0.139191  0.018661\n",
       "2001-08  1.533725 -1.840359 -0.064219 -0.321102\n",
       "2001-09 -0.258132  1.429465 -1.042264 -0.793603\n",
       "2001-10  0.432105 -0.667360 -0.631020 -1.214992\n",
       "2001-11  1.157743  2.084581 -0.703135  0.267048\n",
       "2001-12 -0.298686  1.095900  0.663667 -1.684057"
      ]
     },
     "execution_count": 204,
     "metadata": {},
     "output_type": "execute_result"
    }
   ],
   "source": [
    "frame"
   ]
  },
  {
   "cell_type": "code",
   "execution_count": 205,
   "metadata": {},
   "outputs": [],
   "source": [
    "annual_frame = frame.resample('A-DEC').mean()"
   ]
  },
  {
   "cell_type": "code",
   "execution_count": 206,
   "metadata": {},
   "outputs": [
    {
     "data": {
      "text/html": [
       "<div>\n",
       "<style scoped>\n",
       "    .dataframe tbody tr th:only-of-type {\n",
       "        vertical-align: middle;\n",
       "    }\n",
       "\n",
       "    .dataframe tbody tr th {\n",
       "        vertical-align: top;\n",
       "    }\n",
       "\n",
       "    .dataframe thead th {\n",
       "        text-align: right;\n",
       "    }\n",
       "</style>\n",
       "<table border=\"1\" class=\"dataframe\">\n",
       "  <thead>\n",
       "    <tr style=\"text-align: right;\">\n",
       "      <th></th>\n",
       "      <th>Colorado</th>\n",
       "      <th>Texas</th>\n",
       "      <th>New York</th>\n",
       "      <th>Ohio</th>\n",
       "    </tr>\n",
       "  </thead>\n",
       "  <tbody>\n",
       "    <tr>\n",
       "      <th>2000</th>\n",
       "      <td>0.201088</td>\n",
       "      <td>-0.011076</td>\n",
       "      <td>0.326490</td>\n",
       "      <td>0.106347</td>\n",
       "    </tr>\n",
       "    <tr>\n",
       "      <th>2001</th>\n",
       "      <td>0.494188</td>\n",
       "      <td>0.598230</td>\n",
       "      <td>0.100954</td>\n",
       "      <td>-0.077240</td>\n",
       "    </tr>\n",
       "  </tbody>\n",
       "</table>\n",
       "</div>"
      ],
      "text/plain": [
       "      Colorado     Texas  New York      Ohio\n",
       "2000  0.201088 -0.011076  0.326490  0.106347\n",
       "2001  0.494188  0.598230  0.100954 -0.077240"
      ]
     },
     "execution_count": 206,
     "metadata": {},
     "output_type": "execute_result"
    }
   ],
   "source": [
    "annual_frame"
   ]
  },
  {
   "cell_type": "markdown",
   "metadata": {},
   "source": [
    "## 11.7 Moving Window Functions"
   ]
  },
  {
   "cell_type": "code",
   "execution_count": 214,
   "metadata": {},
   "outputs": [],
   "source": [
    "close_px_all = pd.read_csv('stock_px.csv', parse_dates = True, index_col = 0)"
   ]
  },
  {
   "cell_type": "code",
   "execution_count": 221,
   "metadata": {},
   "outputs": [],
   "source": [
    "close_px = close_px_all[['AAPL', 'MSFT', 'XOM']]"
   ]
  },
  {
   "cell_type": "code",
   "execution_count": 224,
   "metadata": {},
   "outputs": [
    {
     "data": {
      "text/html": [
       "<div>\n",
       "<style scoped>\n",
       "    .dataframe tbody tr th:only-of-type {\n",
       "        vertical-align: middle;\n",
       "    }\n",
       "\n",
       "    .dataframe tbody tr th {\n",
       "        vertical-align: top;\n",
       "    }\n",
       "\n",
       "    .dataframe thead th {\n",
       "        text-align: right;\n",
       "    }\n",
       "</style>\n",
       "<table border=\"1\" class=\"dataframe\">\n",
       "  <thead>\n",
       "    <tr style=\"text-align: right;\">\n",
       "      <th></th>\n",
       "      <th>AAPL</th>\n",
       "      <th>MSFT</th>\n",
       "      <th>XOM</th>\n",
       "    </tr>\n",
       "  </thead>\n",
       "  <tbody>\n",
       "    <tr>\n",
       "      <th>2003-01-02</th>\n",
       "      <td>7.40</td>\n",
       "      <td>21.11</td>\n",
       "      <td>29.22</td>\n",
       "    </tr>\n",
       "    <tr>\n",
       "      <th>2003-01-03</th>\n",
       "      <td>7.45</td>\n",
       "      <td>21.14</td>\n",
       "      <td>29.24</td>\n",
       "    </tr>\n",
       "    <tr>\n",
       "      <th>2003-01-06</th>\n",
       "      <td>7.45</td>\n",
       "      <td>21.52</td>\n",
       "      <td>29.96</td>\n",
       "    </tr>\n",
       "    <tr>\n",
       "      <th>2003-01-07</th>\n",
       "      <td>7.43</td>\n",
       "      <td>21.93</td>\n",
       "      <td>28.95</td>\n",
       "    </tr>\n",
       "    <tr>\n",
       "      <th>2003-01-08</th>\n",
       "      <td>7.28</td>\n",
       "      <td>21.31</td>\n",
       "      <td>28.83</td>\n",
       "    </tr>\n",
       "    <tr>\n",
       "      <th>2003-01-09</th>\n",
       "      <td>7.34</td>\n",
       "      <td>21.93</td>\n",
       "      <td>29.44</td>\n",
       "    </tr>\n",
       "    <tr>\n",
       "      <th>2003-01-10</th>\n",
       "      <td>7.36</td>\n",
       "      <td>21.97</td>\n",
       "      <td>29.03</td>\n",
       "    </tr>\n",
       "    <tr>\n",
       "      <th>2003-01-13</th>\n",
       "      <td>7.32</td>\n",
       "      <td>22.16</td>\n",
       "      <td>28.91</td>\n",
       "    </tr>\n",
       "    <tr>\n",
       "      <th>2003-01-14</th>\n",
       "      <td>7.30</td>\n",
       "      <td>22.39</td>\n",
       "      <td>29.17</td>\n",
       "    </tr>\n",
       "    <tr>\n",
       "      <th>2003-01-15</th>\n",
       "      <td>7.22</td>\n",
       "      <td>22.11</td>\n",
       "      <td>28.77</td>\n",
       "    </tr>\n",
       "    <tr>\n",
       "      <th>2003-01-16</th>\n",
       "      <td>7.31</td>\n",
       "      <td>21.75</td>\n",
       "      <td>28.90</td>\n",
       "    </tr>\n",
       "    <tr>\n",
       "      <th>2003-01-17</th>\n",
       "      <td>7.05</td>\n",
       "      <td>20.22</td>\n",
       "      <td>28.60</td>\n",
       "    </tr>\n",
       "    <tr>\n",
       "      <th>2003-01-21</th>\n",
       "      <td>7.01</td>\n",
       "      <td>20.17</td>\n",
       "      <td>27.94</td>\n",
       "    </tr>\n",
       "    <tr>\n",
       "      <th>2003-01-22</th>\n",
       "      <td>6.94</td>\n",
       "      <td>20.04</td>\n",
       "      <td>27.58</td>\n",
       "    </tr>\n",
       "    <tr>\n",
       "      <th>2003-01-23</th>\n",
       "      <td>7.09</td>\n",
       "      <td>20.54</td>\n",
       "      <td>27.52</td>\n",
       "    </tr>\n",
       "    <tr>\n",
       "      <th>2003-01-24</th>\n",
       "      <td>6.90</td>\n",
       "      <td>19.59</td>\n",
       "      <td>26.93</td>\n",
       "    </tr>\n",
       "    <tr>\n",
       "      <th>2003-01-27</th>\n",
       "      <td>7.07</td>\n",
       "      <td>19.32</td>\n",
       "      <td>26.21</td>\n",
       "    </tr>\n",
       "    <tr>\n",
       "      <th>2003-01-28</th>\n",
       "      <td>7.29</td>\n",
       "      <td>19.18</td>\n",
       "      <td>26.90</td>\n",
       "    </tr>\n",
       "    <tr>\n",
       "      <th>2003-01-29</th>\n",
       "      <td>7.47</td>\n",
       "      <td>19.61</td>\n",
       "      <td>27.88</td>\n",
       "    </tr>\n",
       "    <tr>\n",
       "      <th>2003-01-30</th>\n",
       "      <td>7.16</td>\n",
       "      <td>18.95</td>\n",
       "      <td>27.37</td>\n",
       "    </tr>\n",
       "    <tr>\n",
       "      <th>2003-01-31</th>\n",
       "      <td>7.18</td>\n",
       "      <td>18.65</td>\n",
       "      <td>28.13</td>\n",
       "    </tr>\n",
       "    <tr>\n",
       "      <th>2003-02-03</th>\n",
       "      <td>7.33</td>\n",
       "      <td>19.08</td>\n",
       "      <td>28.52</td>\n",
       "    </tr>\n",
       "    <tr>\n",
       "      <th>2003-02-04</th>\n",
       "      <td>7.30</td>\n",
       "      <td>18.59</td>\n",
       "      <td>28.52</td>\n",
       "    </tr>\n",
       "    <tr>\n",
       "      <th>2003-02-05</th>\n",
       "      <td>7.22</td>\n",
       "      <td>18.45</td>\n",
       "      <td>28.11</td>\n",
       "    </tr>\n",
       "    <tr>\n",
       "      <th>2003-02-06</th>\n",
       "      <td>7.22</td>\n",
       "      <td>18.63</td>\n",
       "      <td>27.87</td>\n",
       "    </tr>\n",
       "    <tr>\n",
       "      <th>2003-02-07</th>\n",
       "      <td>7.07</td>\n",
       "      <td>18.30</td>\n",
       "      <td>27.66</td>\n",
       "    </tr>\n",
       "    <tr>\n",
       "      <th>2003-02-10</th>\n",
       "      <td>7.18</td>\n",
       "      <td>18.62</td>\n",
       "      <td>27.87</td>\n",
       "    </tr>\n",
       "    <tr>\n",
       "      <th>2003-02-11</th>\n",
       "      <td>7.18</td>\n",
       "      <td>18.25</td>\n",
       "      <td>27.67</td>\n",
       "    </tr>\n",
       "    <tr>\n",
       "      <th>2003-02-12</th>\n",
       "      <td>7.20</td>\n",
       "      <td>18.25</td>\n",
       "      <td>27.12</td>\n",
       "    </tr>\n",
       "    <tr>\n",
       "      <th>2003-02-13</th>\n",
       "      <td>7.27</td>\n",
       "      <td>18.46</td>\n",
       "      <td>27.47</td>\n",
       "    </tr>\n",
       "    <tr>\n",
       "      <th>...</th>\n",
       "      <td>...</td>\n",
       "      <td>...</td>\n",
       "      <td>...</td>\n",
       "    </tr>\n",
       "    <tr>\n",
       "      <th>2011-09-02</th>\n",
       "      <td>374.05</td>\n",
       "      <td>25.80</td>\n",
       "      <td>72.14</td>\n",
       "    </tr>\n",
       "    <tr>\n",
       "      <th>2011-09-06</th>\n",
       "      <td>379.74</td>\n",
       "      <td>25.51</td>\n",
       "      <td>71.15</td>\n",
       "    </tr>\n",
       "    <tr>\n",
       "      <th>2011-09-07</th>\n",
       "      <td>383.93</td>\n",
       "      <td>26.00</td>\n",
       "      <td>73.65</td>\n",
       "    </tr>\n",
       "    <tr>\n",
       "      <th>2011-09-08</th>\n",
       "      <td>384.14</td>\n",
       "      <td>26.22</td>\n",
       "      <td>72.82</td>\n",
       "    </tr>\n",
       "    <tr>\n",
       "      <th>2011-09-09</th>\n",
       "      <td>377.48</td>\n",
       "      <td>25.74</td>\n",
       "      <td>71.01</td>\n",
       "    </tr>\n",
       "    <tr>\n",
       "      <th>2011-09-12</th>\n",
       "      <td>379.94</td>\n",
       "      <td>25.89</td>\n",
       "      <td>71.84</td>\n",
       "    </tr>\n",
       "    <tr>\n",
       "      <th>2011-09-13</th>\n",
       "      <td>384.62</td>\n",
       "      <td>26.04</td>\n",
       "      <td>71.65</td>\n",
       "    </tr>\n",
       "    <tr>\n",
       "      <th>2011-09-14</th>\n",
       "      <td>389.30</td>\n",
       "      <td>26.50</td>\n",
       "      <td>72.64</td>\n",
       "    </tr>\n",
       "    <tr>\n",
       "      <th>2011-09-15</th>\n",
       "      <td>392.96</td>\n",
       "      <td>26.99</td>\n",
       "      <td>74.01</td>\n",
       "    </tr>\n",
       "    <tr>\n",
       "      <th>2011-09-16</th>\n",
       "      <td>400.50</td>\n",
       "      <td>27.12</td>\n",
       "      <td>74.55</td>\n",
       "    </tr>\n",
       "    <tr>\n",
       "      <th>2011-09-19</th>\n",
       "      <td>411.63</td>\n",
       "      <td>27.21</td>\n",
       "      <td>73.70</td>\n",
       "    </tr>\n",
       "    <tr>\n",
       "      <th>2011-09-20</th>\n",
       "      <td>413.45</td>\n",
       "      <td>26.98</td>\n",
       "      <td>74.01</td>\n",
       "    </tr>\n",
       "    <tr>\n",
       "      <th>2011-09-21</th>\n",
       "      <td>412.14</td>\n",
       "      <td>25.99</td>\n",
       "      <td>71.97</td>\n",
       "    </tr>\n",
       "    <tr>\n",
       "      <th>2011-09-22</th>\n",
       "      <td>401.82</td>\n",
       "      <td>25.06</td>\n",
       "      <td>69.24</td>\n",
       "    </tr>\n",
       "    <tr>\n",
       "      <th>2011-09-23</th>\n",
       "      <td>404.30</td>\n",
       "      <td>25.06</td>\n",
       "      <td>69.31</td>\n",
       "    </tr>\n",
       "    <tr>\n",
       "      <th>2011-09-26</th>\n",
       "      <td>403.17</td>\n",
       "      <td>25.44</td>\n",
       "      <td>71.72</td>\n",
       "    </tr>\n",
       "    <tr>\n",
       "      <th>2011-09-27</th>\n",
       "      <td>399.26</td>\n",
       "      <td>25.67</td>\n",
       "      <td>72.91</td>\n",
       "    </tr>\n",
       "    <tr>\n",
       "      <th>2011-09-28</th>\n",
       "      <td>397.01</td>\n",
       "      <td>25.58</td>\n",
       "      <td>72.07</td>\n",
       "    </tr>\n",
       "    <tr>\n",
       "      <th>2011-09-29</th>\n",
       "      <td>390.57</td>\n",
       "      <td>25.45</td>\n",
       "      <td>73.88</td>\n",
       "    </tr>\n",
       "    <tr>\n",
       "      <th>2011-09-30</th>\n",
       "      <td>381.32</td>\n",
       "      <td>24.89</td>\n",
       "      <td>72.63</td>\n",
       "    </tr>\n",
       "    <tr>\n",
       "      <th>2011-10-03</th>\n",
       "      <td>374.60</td>\n",
       "      <td>24.53</td>\n",
       "      <td>71.15</td>\n",
       "    </tr>\n",
       "    <tr>\n",
       "      <th>2011-10-04</th>\n",
       "      <td>372.50</td>\n",
       "      <td>25.34</td>\n",
       "      <td>72.83</td>\n",
       "    </tr>\n",
       "    <tr>\n",
       "      <th>2011-10-05</th>\n",
       "      <td>378.25</td>\n",
       "      <td>25.89</td>\n",
       "      <td>73.95</td>\n",
       "    </tr>\n",
       "    <tr>\n",
       "      <th>2011-10-06</th>\n",
       "      <td>377.37</td>\n",
       "      <td>26.34</td>\n",
       "      <td>73.89</td>\n",
       "    </tr>\n",
       "    <tr>\n",
       "      <th>2011-10-07</th>\n",
       "      <td>369.80</td>\n",
       "      <td>26.25</td>\n",
       "      <td>73.56</td>\n",
       "    </tr>\n",
       "    <tr>\n",
       "      <th>2011-10-10</th>\n",
       "      <td>388.81</td>\n",
       "      <td>26.94</td>\n",
       "      <td>76.28</td>\n",
       "    </tr>\n",
       "    <tr>\n",
       "      <th>2011-10-11</th>\n",
       "      <td>400.29</td>\n",
       "      <td>27.00</td>\n",
       "      <td>76.27</td>\n",
       "    </tr>\n",
       "    <tr>\n",
       "      <th>2011-10-12</th>\n",
       "      <td>402.19</td>\n",
       "      <td>26.96</td>\n",
       "      <td>77.16</td>\n",
       "    </tr>\n",
       "    <tr>\n",
       "      <th>2011-10-13</th>\n",
       "      <td>408.43</td>\n",
       "      <td>27.18</td>\n",
       "      <td>76.37</td>\n",
       "    </tr>\n",
       "    <tr>\n",
       "      <th>2011-10-14</th>\n",
       "      <td>422.00</td>\n",
       "      <td>27.27</td>\n",
       "      <td>78.11</td>\n",
       "    </tr>\n",
       "  </tbody>\n",
       "</table>\n",
       "<p>2214 rows × 3 columns</p>\n",
       "</div>"
      ],
      "text/plain": [
       "              AAPL   MSFT    XOM\n",
       "2003-01-02    7.40  21.11  29.22\n",
       "2003-01-03    7.45  21.14  29.24\n",
       "2003-01-06    7.45  21.52  29.96\n",
       "2003-01-07    7.43  21.93  28.95\n",
       "2003-01-08    7.28  21.31  28.83\n",
       "2003-01-09    7.34  21.93  29.44\n",
       "2003-01-10    7.36  21.97  29.03\n",
       "2003-01-13    7.32  22.16  28.91\n",
       "2003-01-14    7.30  22.39  29.17\n",
       "2003-01-15    7.22  22.11  28.77\n",
       "2003-01-16    7.31  21.75  28.90\n",
       "2003-01-17    7.05  20.22  28.60\n",
       "2003-01-21    7.01  20.17  27.94\n",
       "2003-01-22    6.94  20.04  27.58\n",
       "2003-01-23    7.09  20.54  27.52\n",
       "2003-01-24    6.90  19.59  26.93\n",
       "2003-01-27    7.07  19.32  26.21\n",
       "2003-01-28    7.29  19.18  26.90\n",
       "2003-01-29    7.47  19.61  27.88\n",
       "2003-01-30    7.16  18.95  27.37\n",
       "2003-01-31    7.18  18.65  28.13\n",
       "2003-02-03    7.33  19.08  28.52\n",
       "2003-02-04    7.30  18.59  28.52\n",
       "2003-02-05    7.22  18.45  28.11\n",
       "2003-02-06    7.22  18.63  27.87\n",
       "2003-02-07    7.07  18.30  27.66\n",
       "2003-02-10    7.18  18.62  27.87\n",
       "2003-02-11    7.18  18.25  27.67\n",
       "2003-02-12    7.20  18.25  27.12\n",
       "2003-02-13    7.27  18.46  27.47\n",
       "...            ...    ...    ...\n",
       "2011-09-02  374.05  25.80  72.14\n",
       "2011-09-06  379.74  25.51  71.15\n",
       "2011-09-07  383.93  26.00  73.65\n",
       "2011-09-08  384.14  26.22  72.82\n",
       "2011-09-09  377.48  25.74  71.01\n",
       "2011-09-12  379.94  25.89  71.84\n",
       "2011-09-13  384.62  26.04  71.65\n",
       "2011-09-14  389.30  26.50  72.64\n",
       "2011-09-15  392.96  26.99  74.01\n",
       "2011-09-16  400.50  27.12  74.55\n",
       "2011-09-19  411.63  27.21  73.70\n",
       "2011-09-20  413.45  26.98  74.01\n",
       "2011-09-21  412.14  25.99  71.97\n",
       "2011-09-22  401.82  25.06  69.24\n",
       "2011-09-23  404.30  25.06  69.31\n",
       "2011-09-26  403.17  25.44  71.72\n",
       "2011-09-27  399.26  25.67  72.91\n",
       "2011-09-28  397.01  25.58  72.07\n",
       "2011-09-29  390.57  25.45  73.88\n",
       "2011-09-30  381.32  24.89  72.63\n",
       "2011-10-03  374.60  24.53  71.15\n",
       "2011-10-04  372.50  25.34  72.83\n",
       "2011-10-05  378.25  25.89  73.95\n",
       "2011-10-06  377.37  26.34  73.89\n",
       "2011-10-07  369.80  26.25  73.56\n",
       "2011-10-10  388.81  26.94  76.28\n",
       "2011-10-11  400.29  27.00  76.27\n",
       "2011-10-12  402.19  26.96  77.16\n",
       "2011-10-13  408.43  27.18  76.37\n",
       "2011-10-14  422.00  27.27  78.11\n",
       "\n",
       "[2214 rows x 3 columns]"
      ]
     },
     "execution_count": 224,
     "metadata": {},
     "output_type": "execute_result"
    }
   ],
   "source": [
    "close_px"
   ]
  },
  {
   "cell_type": "code",
   "execution_count": 222,
   "metadata": {},
   "outputs": [],
   "source": [
    "px = close_px.resample('B').ffill()"
   ]
  },
  {
   "cell_type": "code",
   "execution_count": 223,
   "metadata": {},
   "outputs": [
    {
     "data": {
      "text/html": [
       "<div>\n",
       "<style scoped>\n",
       "    .dataframe tbody tr th:only-of-type {\n",
       "        vertical-align: middle;\n",
       "    }\n",
       "\n",
       "    .dataframe tbody tr th {\n",
       "        vertical-align: top;\n",
       "    }\n",
       "\n",
       "    .dataframe thead th {\n",
       "        text-align: right;\n",
       "    }\n",
       "</style>\n",
       "<table border=\"1\" class=\"dataframe\">\n",
       "  <thead>\n",
       "    <tr style=\"text-align: right;\">\n",
       "      <th></th>\n",
       "      <th>AAPL</th>\n",
       "      <th>MSFT</th>\n",
       "      <th>XOM</th>\n",
       "    </tr>\n",
       "  </thead>\n",
       "  <tbody>\n",
       "    <tr>\n",
       "      <th>2003-01-02</th>\n",
       "      <td>7.40</td>\n",
       "      <td>21.11</td>\n",
       "      <td>29.22</td>\n",
       "    </tr>\n",
       "    <tr>\n",
       "      <th>2003-01-03</th>\n",
       "      <td>7.45</td>\n",
       "      <td>21.14</td>\n",
       "      <td>29.24</td>\n",
       "    </tr>\n",
       "    <tr>\n",
       "      <th>2003-01-06</th>\n",
       "      <td>7.45</td>\n",
       "      <td>21.52</td>\n",
       "      <td>29.96</td>\n",
       "    </tr>\n",
       "    <tr>\n",
       "      <th>2003-01-07</th>\n",
       "      <td>7.43</td>\n",
       "      <td>21.93</td>\n",
       "      <td>28.95</td>\n",
       "    </tr>\n",
       "    <tr>\n",
       "      <th>2003-01-08</th>\n",
       "      <td>7.28</td>\n",
       "      <td>21.31</td>\n",
       "      <td>28.83</td>\n",
       "    </tr>\n",
       "    <tr>\n",
       "      <th>2003-01-09</th>\n",
       "      <td>7.34</td>\n",
       "      <td>21.93</td>\n",
       "      <td>29.44</td>\n",
       "    </tr>\n",
       "    <tr>\n",
       "      <th>2003-01-10</th>\n",
       "      <td>7.36</td>\n",
       "      <td>21.97</td>\n",
       "      <td>29.03</td>\n",
       "    </tr>\n",
       "    <tr>\n",
       "      <th>2003-01-13</th>\n",
       "      <td>7.32</td>\n",
       "      <td>22.16</td>\n",
       "      <td>28.91</td>\n",
       "    </tr>\n",
       "    <tr>\n",
       "      <th>2003-01-14</th>\n",
       "      <td>7.30</td>\n",
       "      <td>22.39</td>\n",
       "      <td>29.17</td>\n",
       "    </tr>\n",
       "    <tr>\n",
       "      <th>2003-01-15</th>\n",
       "      <td>7.22</td>\n",
       "      <td>22.11</td>\n",
       "      <td>28.77</td>\n",
       "    </tr>\n",
       "    <tr>\n",
       "      <th>2003-01-16</th>\n",
       "      <td>7.31</td>\n",
       "      <td>21.75</td>\n",
       "      <td>28.90</td>\n",
       "    </tr>\n",
       "    <tr>\n",
       "      <th>2003-01-17</th>\n",
       "      <td>7.05</td>\n",
       "      <td>20.22</td>\n",
       "      <td>28.60</td>\n",
       "    </tr>\n",
       "    <tr>\n",
       "      <th>2003-01-20</th>\n",
       "      <td>7.05</td>\n",
       "      <td>20.22</td>\n",
       "      <td>28.60</td>\n",
       "    </tr>\n",
       "    <tr>\n",
       "      <th>2003-01-21</th>\n",
       "      <td>7.01</td>\n",
       "      <td>20.17</td>\n",
       "      <td>27.94</td>\n",
       "    </tr>\n",
       "    <tr>\n",
       "      <th>2003-01-22</th>\n",
       "      <td>6.94</td>\n",
       "      <td>20.04</td>\n",
       "      <td>27.58</td>\n",
       "    </tr>\n",
       "    <tr>\n",
       "      <th>2003-01-23</th>\n",
       "      <td>7.09</td>\n",
       "      <td>20.54</td>\n",
       "      <td>27.52</td>\n",
       "    </tr>\n",
       "    <tr>\n",
       "      <th>2003-01-24</th>\n",
       "      <td>6.90</td>\n",
       "      <td>19.59</td>\n",
       "      <td>26.93</td>\n",
       "    </tr>\n",
       "    <tr>\n",
       "      <th>2003-01-27</th>\n",
       "      <td>7.07</td>\n",
       "      <td>19.32</td>\n",
       "      <td>26.21</td>\n",
       "    </tr>\n",
       "    <tr>\n",
       "      <th>2003-01-28</th>\n",
       "      <td>7.29</td>\n",
       "      <td>19.18</td>\n",
       "      <td>26.90</td>\n",
       "    </tr>\n",
       "    <tr>\n",
       "      <th>2003-01-29</th>\n",
       "      <td>7.47</td>\n",
       "      <td>19.61</td>\n",
       "      <td>27.88</td>\n",
       "    </tr>\n",
       "    <tr>\n",
       "      <th>2003-01-30</th>\n",
       "      <td>7.16</td>\n",
       "      <td>18.95</td>\n",
       "      <td>27.37</td>\n",
       "    </tr>\n",
       "    <tr>\n",
       "      <th>2003-01-31</th>\n",
       "      <td>7.18</td>\n",
       "      <td>18.65</td>\n",
       "      <td>28.13</td>\n",
       "    </tr>\n",
       "    <tr>\n",
       "      <th>2003-02-03</th>\n",
       "      <td>7.33</td>\n",
       "      <td>19.08</td>\n",
       "      <td>28.52</td>\n",
       "    </tr>\n",
       "    <tr>\n",
       "      <th>2003-02-04</th>\n",
       "      <td>7.30</td>\n",
       "      <td>18.59</td>\n",
       "      <td>28.52</td>\n",
       "    </tr>\n",
       "    <tr>\n",
       "      <th>2003-02-05</th>\n",
       "      <td>7.22</td>\n",
       "      <td>18.45</td>\n",
       "      <td>28.11</td>\n",
       "    </tr>\n",
       "    <tr>\n",
       "      <th>2003-02-06</th>\n",
       "      <td>7.22</td>\n",
       "      <td>18.63</td>\n",
       "      <td>27.87</td>\n",
       "    </tr>\n",
       "    <tr>\n",
       "      <th>2003-02-07</th>\n",
       "      <td>7.07</td>\n",
       "      <td>18.30</td>\n",
       "      <td>27.66</td>\n",
       "    </tr>\n",
       "    <tr>\n",
       "      <th>2003-02-10</th>\n",
       "      <td>7.18</td>\n",
       "      <td>18.62</td>\n",
       "      <td>27.87</td>\n",
       "    </tr>\n",
       "    <tr>\n",
       "      <th>2003-02-11</th>\n",
       "      <td>7.18</td>\n",
       "      <td>18.25</td>\n",
       "      <td>27.67</td>\n",
       "    </tr>\n",
       "    <tr>\n",
       "      <th>2003-02-12</th>\n",
       "      <td>7.20</td>\n",
       "      <td>18.25</td>\n",
       "      <td>27.12</td>\n",
       "    </tr>\n",
       "    <tr>\n",
       "      <th>...</th>\n",
       "      <td>...</td>\n",
       "      <td>...</td>\n",
       "      <td>...</td>\n",
       "    </tr>\n",
       "    <tr>\n",
       "      <th>2011-09-05</th>\n",
       "      <td>374.05</td>\n",
       "      <td>25.80</td>\n",
       "      <td>72.14</td>\n",
       "    </tr>\n",
       "    <tr>\n",
       "      <th>2011-09-06</th>\n",
       "      <td>379.74</td>\n",
       "      <td>25.51</td>\n",
       "      <td>71.15</td>\n",
       "    </tr>\n",
       "    <tr>\n",
       "      <th>2011-09-07</th>\n",
       "      <td>383.93</td>\n",
       "      <td>26.00</td>\n",
       "      <td>73.65</td>\n",
       "    </tr>\n",
       "    <tr>\n",
       "      <th>2011-09-08</th>\n",
       "      <td>384.14</td>\n",
       "      <td>26.22</td>\n",
       "      <td>72.82</td>\n",
       "    </tr>\n",
       "    <tr>\n",
       "      <th>2011-09-09</th>\n",
       "      <td>377.48</td>\n",
       "      <td>25.74</td>\n",
       "      <td>71.01</td>\n",
       "    </tr>\n",
       "    <tr>\n",
       "      <th>2011-09-12</th>\n",
       "      <td>379.94</td>\n",
       "      <td>25.89</td>\n",
       "      <td>71.84</td>\n",
       "    </tr>\n",
       "    <tr>\n",
       "      <th>2011-09-13</th>\n",
       "      <td>384.62</td>\n",
       "      <td>26.04</td>\n",
       "      <td>71.65</td>\n",
       "    </tr>\n",
       "    <tr>\n",
       "      <th>2011-09-14</th>\n",
       "      <td>389.30</td>\n",
       "      <td>26.50</td>\n",
       "      <td>72.64</td>\n",
       "    </tr>\n",
       "    <tr>\n",
       "      <th>2011-09-15</th>\n",
       "      <td>392.96</td>\n",
       "      <td>26.99</td>\n",
       "      <td>74.01</td>\n",
       "    </tr>\n",
       "    <tr>\n",
       "      <th>2011-09-16</th>\n",
       "      <td>400.50</td>\n",
       "      <td>27.12</td>\n",
       "      <td>74.55</td>\n",
       "    </tr>\n",
       "    <tr>\n",
       "      <th>2011-09-19</th>\n",
       "      <td>411.63</td>\n",
       "      <td>27.21</td>\n",
       "      <td>73.70</td>\n",
       "    </tr>\n",
       "    <tr>\n",
       "      <th>2011-09-20</th>\n",
       "      <td>413.45</td>\n",
       "      <td>26.98</td>\n",
       "      <td>74.01</td>\n",
       "    </tr>\n",
       "    <tr>\n",
       "      <th>2011-09-21</th>\n",
       "      <td>412.14</td>\n",
       "      <td>25.99</td>\n",
       "      <td>71.97</td>\n",
       "    </tr>\n",
       "    <tr>\n",
       "      <th>2011-09-22</th>\n",
       "      <td>401.82</td>\n",
       "      <td>25.06</td>\n",
       "      <td>69.24</td>\n",
       "    </tr>\n",
       "    <tr>\n",
       "      <th>2011-09-23</th>\n",
       "      <td>404.30</td>\n",
       "      <td>25.06</td>\n",
       "      <td>69.31</td>\n",
       "    </tr>\n",
       "    <tr>\n",
       "      <th>2011-09-26</th>\n",
       "      <td>403.17</td>\n",
       "      <td>25.44</td>\n",
       "      <td>71.72</td>\n",
       "    </tr>\n",
       "    <tr>\n",
       "      <th>2011-09-27</th>\n",
       "      <td>399.26</td>\n",
       "      <td>25.67</td>\n",
       "      <td>72.91</td>\n",
       "    </tr>\n",
       "    <tr>\n",
       "      <th>2011-09-28</th>\n",
       "      <td>397.01</td>\n",
       "      <td>25.58</td>\n",
       "      <td>72.07</td>\n",
       "    </tr>\n",
       "    <tr>\n",
       "      <th>2011-09-29</th>\n",
       "      <td>390.57</td>\n",
       "      <td>25.45</td>\n",
       "      <td>73.88</td>\n",
       "    </tr>\n",
       "    <tr>\n",
       "      <th>2011-09-30</th>\n",
       "      <td>381.32</td>\n",
       "      <td>24.89</td>\n",
       "      <td>72.63</td>\n",
       "    </tr>\n",
       "    <tr>\n",
       "      <th>2011-10-03</th>\n",
       "      <td>374.60</td>\n",
       "      <td>24.53</td>\n",
       "      <td>71.15</td>\n",
       "    </tr>\n",
       "    <tr>\n",
       "      <th>2011-10-04</th>\n",
       "      <td>372.50</td>\n",
       "      <td>25.34</td>\n",
       "      <td>72.83</td>\n",
       "    </tr>\n",
       "    <tr>\n",
       "      <th>2011-10-05</th>\n",
       "      <td>378.25</td>\n",
       "      <td>25.89</td>\n",
       "      <td>73.95</td>\n",
       "    </tr>\n",
       "    <tr>\n",
       "      <th>2011-10-06</th>\n",
       "      <td>377.37</td>\n",
       "      <td>26.34</td>\n",
       "      <td>73.89</td>\n",
       "    </tr>\n",
       "    <tr>\n",
       "      <th>2011-10-07</th>\n",
       "      <td>369.80</td>\n",
       "      <td>26.25</td>\n",
       "      <td>73.56</td>\n",
       "    </tr>\n",
       "    <tr>\n",
       "      <th>2011-10-10</th>\n",
       "      <td>388.81</td>\n",
       "      <td>26.94</td>\n",
       "      <td>76.28</td>\n",
       "    </tr>\n",
       "    <tr>\n",
       "      <th>2011-10-11</th>\n",
       "      <td>400.29</td>\n",
       "      <td>27.00</td>\n",
       "      <td>76.27</td>\n",
       "    </tr>\n",
       "    <tr>\n",
       "      <th>2011-10-12</th>\n",
       "      <td>402.19</td>\n",
       "      <td>26.96</td>\n",
       "      <td>77.16</td>\n",
       "    </tr>\n",
       "    <tr>\n",
       "      <th>2011-10-13</th>\n",
       "      <td>408.43</td>\n",
       "      <td>27.18</td>\n",
       "      <td>76.37</td>\n",
       "    </tr>\n",
       "    <tr>\n",
       "      <th>2011-10-14</th>\n",
       "      <td>422.00</td>\n",
       "      <td>27.27</td>\n",
       "      <td>78.11</td>\n",
       "    </tr>\n",
       "  </tbody>\n",
       "</table>\n",
       "<p>2292 rows × 3 columns</p>\n",
       "</div>"
      ],
      "text/plain": [
       "              AAPL   MSFT    XOM\n",
       "2003-01-02    7.40  21.11  29.22\n",
       "2003-01-03    7.45  21.14  29.24\n",
       "2003-01-06    7.45  21.52  29.96\n",
       "2003-01-07    7.43  21.93  28.95\n",
       "2003-01-08    7.28  21.31  28.83\n",
       "2003-01-09    7.34  21.93  29.44\n",
       "2003-01-10    7.36  21.97  29.03\n",
       "2003-01-13    7.32  22.16  28.91\n",
       "2003-01-14    7.30  22.39  29.17\n",
       "2003-01-15    7.22  22.11  28.77\n",
       "2003-01-16    7.31  21.75  28.90\n",
       "2003-01-17    7.05  20.22  28.60\n",
       "2003-01-20    7.05  20.22  28.60\n",
       "2003-01-21    7.01  20.17  27.94\n",
       "2003-01-22    6.94  20.04  27.58\n",
       "2003-01-23    7.09  20.54  27.52\n",
       "2003-01-24    6.90  19.59  26.93\n",
       "2003-01-27    7.07  19.32  26.21\n",
       "2003-01-28    7.29  19.18  26.90\n",
       "2003-01-29    7.47  19.61  27.88\n",
       "2003-01-30    7.16  18.95  27.37\n",
       "2003-01-31    7.18  18.65  28.13\n",
       "2003-02-03    7.33  19.08  28.52\n",
       "2003-02-04    7.30  18.59  28.52\n",
       "2003-02-05    7.22  18.45  28.11\n",
       "2003-02-06    7.22  18.63  27.87\n",
       "2003-02-07    7.07  18.30  27.66\n",
       "2003-02-10    7.18  18.62  27.87\n",
       "2003-02-11    7.18  18.25  27.67\n",
       "2003-02-12    7.20  18.25  27.12\n",
       "...            ...    ...    ...\n",
       "2011-09-05  374.05  25.80  72.14\n",
       "2011-09-06  379.74  25.51  71.15\n",
       "2011-09-07  383.93  26.00  73.65\n",
       "2011-09-08  384.14  26.22  72.82\n",
       "2011-09-09  377.48  25.74  71.01\n",
       "2011-09-12  379.94  25.89  71.84\n",
       "2011-09-13  384.62  26.04  71.65\n",
       "2011-09-14  389.30  26.50  72.64\n",
       "2011-09-15  392.96  26.99  74.01\n",
       "2011-09-16  400.50  27.12  74.55\n",
       "2011-09-19  411.63  27.21  73.70\n",
       "2011-09-20  413.45  26.98  74.01\n",
       "2011-09-21  412.14  25.99  71.97\n",
       "2011-09-22  401.82  25.06  69.24\n",
       "2011-09-23  404.30  25.06  69.31\n",
       "2011-09-26  403.17  25.44  71.72\n",
       "2011-09-27  399.26  25.67  72.91\n",
       "2011-09-28  397.01  25.58  72.07\n",
       "2011-09-29  390.57  25.45  73.88\n",
       "2011-09-30  381.32  24.89  72.63\n",
       "2011-10-03  374.60  24.53  71.15\n",
       "2011-10-04  372.50  25.34  72.83\n",
       "2011-10-05  378.25  25.89  73.95\n",
       "2011-10-06  377.37  26.34  73.89\n",
       "2011-10-07  369.80  26.25  73.56\n",
       "2011-10-10  388.81  26.94  76.28\n",
       "2011-10-11  400.29  27.00  76.27\n",
       "2011-10-12  402.19  26.96  77.16\n",
       "2011-10-13  408.43  27.18  76.37\n",
       "2011-10-14  422.00  27.27  78.11\n",
       "\n",
       "[2292 rows x 3 columns]"
      ]
     },
     "execution_count": 223,
     "metadata": {},
     "output_type": "execute_result"
    }
   ],
   "source": [
    "px"
   ]
  },
  {
   "cell_type": "code",
   "execution_count": 226,
   "metadata": {},
   "outputs": [
    {
     "data": {
      "text/plain": [
       "<matplotlib.axes._subplots.AxesSubplot at 0x1f9b346cb38>"
      ]
     },
     "execution_count": 226,
     "metadata": {},
     "output_type": "execute_result"
    },
    {
     "data": {
      "image/png": "[encoded data removed]",
      "text/plain": [
       "<Figure size 432x288 with 1 Axes>"
      ]
     },
     "metadata": {
      "needs_background": "light"
     },
     "output_type": "display_data"
    }
   ],
   "source": [
    "px.AAPL.plot()"
   ]
  },
  {
   "cell_type": "code",
   "execution_count": 227,
   "metadata": {},
   "outputs": [
    {
     "data": {
      "text/plain": [
       "<matplotlib.axes._subplots.AxesSubplot at 0x1f9b353c908>"
      ]
     },
     "execution_count": 227,
     "metadata": {},
     "output_type": "execute_result"
    },
    {
     "data": {
      "image/png": "[encoded data removed]",
      "text/plain": [
       "<Figure size 432x288 with 1 Axes>"
      ]
     },
     "metadata": {
      "needs_background": "light"
     },
     "output_type": "display_data"
    }
   ],
   "source": [
    "px.AAPL.rolling(250).mean().plot()"
   ]
  },
  {
   "cell_type": "code",
   "execution_count": 229,
   "metadata": {},
   "outputs": [],
   "source": [
    "appl_std250 = close_px.AAPL.rolling(250, min_periods=10).std()"
   ]
  },
  {
   "cell_type": "code",
   "execution_count": 231,
   "metadata": {},
   "outputs": [
    {
     "data": {
      "text/plain": [
       "2003-01-02          NaN\n",
       "2003-01-03          NaN\n",
       "2003-01-06          NaN\n",
       "2003-01-07          NaN\n",
       "2003-01-08          NaN\n",
       "2003-01-09          NaN\n",
       "2003-01-10          NaN\n",
       "2003-01-13          NaN\n",
       "2003-01-14          NaN\n",
       "2003-01-15     0.077496\n",
       "2003-01-16     0.074760\n",
       "2003-01-17     0.112368\n",
       "2003-01-21     0.138735\n",
       "2003-01-22     0.164631\n",
       "2003-01-23     0.165731\n",
       "2003-01-24     0.184082\n",
       "2003-01-27     0.182978\n",
       "2003-01-28     0.178066\n",
       "2003-01-29     0.181329\n",
       "2003-01-30     0.177545\n",
       "2003-01-31     0.173577\n",
       "2003-02-03     0.170500\n",
       "2003-02-04     0.167001\n",
       "2003-02-05     0.163414\n",
       "2003-02-06     0.160049\n",
       "2003-02-07     0.160469\n",
       "2003-02-10     0.157733\n",
       "2003-02-11     0.155131\n",
       "2003-02-12     0.152458\n",
       "2003-02-13     0.149969\n",
       "                ...    \n",
       "2011-09-02    27.798846\n",
       "2011-09-06    27.549694\n",
       "2011-09-07    27.321671\n",
       "2011-09-08    27.123342\n",
       "2011-09-09    26.883253\n",
       "2011-09-12    26.671274\n",
       "2011-09-13    26.544030\n",
       "2011-09-14    26.431642\n",
       "2011-09-15    26.411736\n",
       "2011-09-16    26.454187\n",
       "2011-09-19    26.631640\n",
       "2011-09-20    26.827454\n",
       "2011-09-21    27.024430\n",
       "2011-09-22    27.103593\n",
       "2011-09-23    27.163644\n",
       "2011-09-26    27.209458\n",
       "2011-09-27    27.183029\n",
       "2011-09-28    27.119534\n",
       "2011-09-29    26.963904\n",
       "2011-09-30    26.836385\n",
       "2011-10-03    26.671810\n",
       "2011-10-04    26.493036\n",
       "2011-10-05    26.374814\n",
       "2011-10-06    26.257531\n",
       "2011-10-07    26.127808\n",
       "2011-10-10    26.102069\n",
       "2011-10-11    26.170785\n",
       "2011-10-12    26.322769\n",
       "2011-10-13    26.539215\n",
       "2011-10-14    26.841851\n",
       "Name: AAPL, Length: 2214, dtype: float64"
      ]
     },
     "execution_count": 231,
     "metadata": {},
     "output_type": "execute_result"
    }
   ],
   "source": [
    "appl_std250"
   ]
  },
  {
   "cell_type": "code",
   "execution_count": 230,
   "metadata": {},
   "outputs": [],
   "source": [
    "expanding_mean = appl_std250.expanding().mean()"
   ]
  },
  {
   "cell_type": "code",
   "execution_count": 232,
   "metadata": {},
   "outputs": [
    {
     "data": {
      "text/plain": [
       "<matplotlib.axes._subplots.AxesSubplot at 0x1f9b45f3780>"
      ]
     },
     "execution_count": 232,
     "metadata": {},
     "output_type": "execute_result"
    },
    {
     "data": {
      "image/png": "[encoded data removed]",
      "text/plain": [
       "<Figure size 432x288 with 1 Axes>"
      ]
     },
     "metadata": {
      "needs_background": "light"
     },
     "output_type": "display_data"
    }
   ],
   "source": [
    "close_px.rolling(60).mean().plot(logy=True)"
   ]
  },
  {
   "cell_type": "code",
   "execution_count": 233,
   "metadata": {},
   "outputs": [
    {
     "data": {
      "text/html": [
       "<div>\n",
       "<style scoped>\n",
       "    .dataframe tbody tr th:only-of-type {\n",
       "        vertical-align: middle;\n",
       "    }\n",
       "\n",
       "    .dataframe tbody tr th {\n",
       "        vertical-align: top;\n",
       "    }\n",
       "\n",
       "    .dataframe thead th {\n",
       "        text-align: right;\n",
       "    }\n",
       "</style>\n",
       "<table border=\"1\" class=\"dataframe\">\n",
       "  <thead>\n",
       "    <tr style=\"text-align: right;\">\n",
       "      <th></th>\n",
       "      <th>AAPL</th>\n",
       "      <th>MSFT</th>\n",
       "      <th>XOM</th>\n",
       "    </tr>\n",
       "  </thead>\n",
       "  <tbody>\n",
       "    <tr>\n",
       "      <th>2003-01-02</th>\n",
       "      <td>7.400000</td>\n",
       "      <td>21.110000</td>\n",
       "      <td>29.220000</td>\n",
       "    </tr>\n",
       "    <tr>\n",
       "      <th>2003-01-03</th>\n",
       "      <td>7.425000</td>\n",
       "      <td>21.125000</td>\n",
       "      <td>29.230000</td>\n",
       "    </tr>\n",
       "    <tr>\n",
       "      <th>2003-01-06</th>\n",
       "      <td>7.433333</td>\n",
       "      <td>21.256667</td>\n",
       "      <td>29.473333</td>\n",
       "    </tr>\n",
       "    <tr>\n",
       "      <th>2003-01-07</th>\n",
       "      <td>7.432500</td>\n",
       "      <td>21.425000</td>\n",
       "      <td>29.342500</td>\n",
       "    </tr>\n",
       "    <tr>\n",
       "      <th>2003-01-08</th>\n",
       "      <td>7.402000</td>\n",
       "      <td>21.402000</td>\n",
       "      <td>29.240000</td>\n",
       "    </tr>\n",
       "    <tr>\n",
       "      <th>2003-01-09</th>\n",
       "      <td>7.391667</td>\n",
       "      <td>21.490000</td>\n",
       "      <td>29.273333</td>\n",
       "    </tr>\n",
       "    <tr>\n",
       "      <th>2003-01-10</th>\n",
       "      <td>7.387143</td>\n",
       "      <td>21.558571</td>\n",
       "      <td>29.238571</td>\n",
       "    </tr>\n",
       "    <tr>\n",
       "      <th>2003-01-13</th>\n",
       "      <td>7.378750</td>\n",
       "      <td>21.633750</td>\n",
       "      <td>29.197500</td>\n",
       "    </tr>\n",
       "    <tr>\n",
       "      <th>2003-01-14</th>\n",
       "      <td>7.370000</td>\n",
       "      <td>21.717778</td>\n",
       "      <td>29.194444</td>\n",
       "    </tr>\n",
       "    <tr>\n",
       "      <th>2003-01-15</th>\n",
       "      <td>7.355000</td>\n",
       "      <td>21.757000</td>\n",
       "      <td>29.152000</td>\n",
       "    </tr>\n",
       "    <tr>\n",
       "      <th>2003-01-16</th>\n",
       "      <td>7.350909</td>\n",
       "      <td>21.756364</td>\n",
       "      <td>29.129091</td>\n",
       "    </tr>\n",
       "    <tr>\n",
       "      <th>2003-01-17</th>\n",
       "      <td>7.325833</td>\n",
       "      <td>21.628333</td>\n",
       "      <td>29.085000</td>\n",
       "    </tr>\n",
       "    <tr>\n",
       "      <th>2003-01-21</th>\n",
       "      <td>7.301538</td>\n",
       "      <td>21.516154</td>\n",
       "      <td>28.996923</td>\n",
       "    </tr>\n",
       "    <tr>\n",
       "      <th>2003-01-22</th>\n",
       "      <td>7.266154</td>\n",
       "      <td>21.433846</td>\n",
       "      <td>28.870769</td>\n",
       "    </tr>\n",
       "    <tr>\n",
       "      <th>2003-01-23</th>\n",
       "      <td>7.238462</td>\n",
       "      <td>21.387692</td>\n",
       "      <td>28.738462</td>\n",
       "    </tr>\n",
       "    <tr>\n",
       "      <th>2003-01-24</th>\n",
       "      <td>7.214286</td>\n",
       "      <td>21.259286</td>\n",
       "      <td>28.609286</td>\n",
       "    </tr>\n",
       "    <tr>\n",
       "      <th>2003-01-27</th>\n",
       "      <td>7.168462</td>\n",
       "      <td>21.038462</td>\n",
       "      <td>28.294615</td>\n",
       "    </tr>\n",
       "    <tr>\n",
       "      <th>2003-01-28</th>\n",
       "      <td>7.169231</td>\n",
       "      <td>20.874615</td>\n",
       "      <td>28.146154</td>\n",
       "    </tr>\n",
       "    <tr>\n",
       "      <th>2003-01-29</th>\n",
       "      <td>7.179231</td>\n",
       "      <td>20.696154</td>\n",
       "      <td>28.026154</td>\n",
       "    </tr>\n",
       "    <tr>\n",
       "      <th>2003-01-30</th>\n",
       "      <td>7.163846</td>\n",
       "      <td>20.463846</td>\n",
       "      <td>27.898462</td>\n",
       "    </tr>\n",
       "    <tr>\n",
       "      <th>2003-01-31</th>\n",
       "      <td>7.165000</td>\n",
       "      <td>20.334286</td>\n",
       "      <td>27.915000</td>\n",
       "    </tr>\n",
       "    <tr>\n",
       "      <th>2003-02-03</th>\n",
       "      <td>7.155385</td>\n",
       "      <td>19.939231</td>\n",
       "      <td>27.788462</td>\n",
       "    </tr>\n",
       "    <tr>\n",
       "      <th>2003-02-04</th>\n",
       "      <td>7.161538</td>\n",
       "      <td>19.668462</td>\n",
       "      <td>27.769231</td>\n",
       "    </tr>\n",
       "    <tr>\n",
       "      <th>2003-02-05</th>\n",
       "      <td>7.154615</td>\n",
       "      <td>19.414615</td>\n",
       "      <td>27.708462</td>\n",
       "    </tr>\n",
       "    <tr>\n",
       "      <th>2003-02-06</th>\n",
       "      <td>7.167692</td>\n",
       "      <td>19.292308</td>\n",
       "      <td>27.652308</td>\n",
       "    </tr>\n",
       "    <tr>\n",
       "      <th>2003-02-07</th>\n",
       "      <td>7.160714</td>\n",
       "      <td>19.221429</td>\n",
       "      <td>27.652857</td>\n",
       "    </tr>\n",
       "    <tr>\n",
       "      <th>2003-02-10</th>\n",
       "      <td>7.172857</td>\n",
       "      <td>19.110714</td>\n",
       "      <td>27.647857</td>\n",
       "    </tr>\n",
       "    <tr>\n",
       "      <th>2003-02-11</th>\n",
       "      <td>7.190000</td>\n",
       "      <td>18.982857</td>\n",
       "      <td>27.654286</td>\n",
       "    </tr>\n",
       "    <tr>\n",
       "      <th>2003-02-12</th>\n",
       "      <td>7.197857</td>\n",
       "      <td>18.819286</td>\n",
       "      <td>27.625714</td>\n",
       "    </tr>\n",
       "    <tr>\n",
       "      <th>2003-02-13</th>\n",
       "      <td>7.224286</td>\n",
       "      <td>18.738571</td>\n",
       "      <td>27.664286</td>\n",
       "    </tr>\n",
       "    <tr>\n",
       "      <th>...</th>\n",
       "      <td>...</td>\n",
       "      <td>...</td>\n",
       "      <td>...</td>\n",
       "    </tr>\n",
       "    <tr>\n",
       "      <th>2011-09-02</th>\n",
       "      <td>376.653333</td>\n",
       "      <td>25.251333</td>\n",
       "      <td>72.810667</td>\n",
       "    </tr>\n",
       "    <tr>\n",
       "      <th>2011-09-06</th>\n",
       "      <td>375.785385</td>\n",
       "      <td>25.256154</td>\n",
       "      <td>72.412308</td>\n",
       "    </tr>\n",
       "    <tr>\n",
       "      <th>2011-09-07</th>\n",
       "      <td>377.160769</td>\n",
       "      <td>25.358462</td>\n",
       "      <td>72.620769</td>\n",
       "    </tr>\n",
       "    <tr>\n",
       "      <th>2011-09-08</th>\n",
       "      <td>379.323077</td>\n",
       "      <td>25.525385</td>\n",
       "      <td>72.853077</td>\n",
       "    </tr>\n",
       "    <tr>\n",
       "      <th>2011-09-09</th>\n",
       "      <td>379.191429</td>\n",
       "      <td>25.540714</td>\n",
       "      <td>72.721429</td>\n",
       "    </tr>\n",
       "    <tr>\n",
       "      <th>2011-09-12</th>\n",
       "      <td>381.429231</td>\n",
       "      <td>25.750769</td>\n",
       "      <td>72.776923</td>\n",
       "    </tr>\n",
       "    <tr>\n",
       "      <th>2011-09-13</th>\n",
       "      <td>382.078462</td>\n",
       "      <td>25.838462</td>\n",
       "      <td>72.631538</td>\n",
       "    </tr>\n",
       "    <tr>\n",
       "      <th>2011-09-14</th>\n",
       "      <td>383.276923</td>\n",
       "      <td>25.986923</td>\n",
       "      <td>72.698462</td>\n",
       "    </tr>\n",
       "    <tr>\n",
       "      <th>2011-09-15</th>\n",
       "      <td>383.998462</td>\n",
       "      <td>26.120769</td>\n",
       "      <td>72.803846</td>\n",
       "    </tr>\n",
       "    <tr>\n",
       "      <th>2011-09-16</th>\n",
       "      <td>385.177143</td>\n",
       "      <td>26.192143</td>\n",
       "      <td>72.928571</td>\n",
       "    </tr>\n",
       "    <tr>\n",
       "      <th>2011-09-19</th>\n",
       "      <td>386.473077</td>\n",
       "      <td>26.294615</td>\n",
       "      <td>72.820769</td>\n",
       "    </tr>\n",
       "    <tr>\n",
       "      <th>2011-09-20</th>\n",
       "      <td>388.674615</td>\n",
       "      <td>26.323846</td>\n",
       "      <td>72.820000</td>\n",
       "    </tr>\n",
       "    <tr>\n",
       "      <th>2011-09-21</th>\n",
       "      <td>391.067692</td>\n",
       "      <td>26.306923</td>\n",
       "      <td>72.703077</td>\n",
       "    </tr>\n",
       "    <tr>\n",
       "      <th>2011-09-22</th>\n",
       "      <td>393.203846</td>\n",
       "      <td>26.250000</td>\n",
       "      <td>72.480000</td>\n",
       "    </tr>\n",
       "    <tr>\n",
       "      <th>2011-09-23</th>\n",
       "      <td>393.996429</td>\n",
       "      <td>26.165000</td>\n",
       "      <td>72.253571</td>\n",
       "    </tr>\n",
       "    <tr>\n",
       "      <th>2011-09-26</th>\n",
       "      <td>395.670000</td>\n",
       "      <td>26.160000</td>\n",
       "      <td>72.294286</td>\n",
       "    </tr>\n",
       "    <tr>\n",
       "      <th>2011-09-27</th>\n",
       "      <td>396.765000</td>\n",
       "      <td>26.136429</td>\n",
       "      <td>72.241429</td>\n",
       "    </tr>\n",
       "    <tr>\n",
       "      <th>2011-09-28</th>\n",
       "      <td>397.684286</td>\n",
       "      <td>26.090714</td>\n",
       "      <td>72.187857</td>\n",
       "    </tr>\n",
       "    <tr>\n",
       "      <th>2011-09-29</th>\n",
       "      <td>398.619286</td>\n",
       "      <td>26.070000</td>\n",
       "      <td>72.392857</td>\n",
       "    </tr>\n",
       "    <tr>\n",
       "      <th>2011-09-30</th>\n",
       "      <td>397.466000</td>\n",
       "      <td>25.991333</td>\n",
       "      <td>72.408667</td>\n",
       "    </tr>\n",
       "    <tr>\n",
       "      <th>2011-10-03</th>\n",
       "      <td>398.002143</td>\n",
       "      <td>25.890714</td>\n",
       "      <td>72.413571</td>\n",
       "    </tr>\n",
       "    <tr>\n",
       "      <th>2011-10-04</th>\n",
       "      <td>396.802143</td>\n",
       "      <td>25.807857</td>\n",
       "      <td>72.427143</td>\n",
       "    </tr>\n",
       "    <tr>\n",
       "      <th>2011-10-05</th>\n",
       "      <td>395.751429</td>\n",
       "      <td>25.729286</td>\n",
       "      <td>72.422857</td>\n",
       "    </tr>\n",
       "    <tr>\n",
       "      <th>2011-10-06</th>\n",
       "      <td>394.099286</td>\n",
       "      <td>25.673571</td>\n",
       "      <td>72.375714</td>\n",
       "    </tr>\n",
       "    <tr>\n",
       "      <th>2011-10-07</th>\n",
       "      <td>392.479333</td>\n",
       "      <td>25.712000</td>\n",
       "      <td>72.454667</td>\n",
       "    </tr>\n",
       "    <tr>\n",
       "      <th>2011-10-10</th>\n",
       "      <td>389.351429</td>\n",
       "      <td>25.602143</td>\n",
       "      <td>72.527857</td>\n",
       "    </tr>\n",
       "    <tr>\n",
       "      <th>2011-10-11</th>\n",
       "      <td>388.505000</td>\n",
       "      <td>25.674286</td>\n",
       "      <td>72.835000</td>\n",
       "    </tr>\n",
       "    <tr>\n",
       "      <th>2011-10-12</th>\n",
       "      <td>388.531429</td>\n",
       "      <td>25.810000</td>\n",
       "      <td>73.400714</td>\n",
       "    </tr>\n",
       "    <tr>\n",
       "      <th>2011-10-13</th>\n",
       "      <td>388.826429</td>\n",
       "      <td>25.961429</td>\n",
       "      <td>73.905000</td>\n",
       "    </tr>\n",
       "    <tr>\n",
       "      <th>2011-10-14</th>\n",
       "      <td>391.038000</td>\n",
       "      <td>26.048667</td>\n",
       "      <td>74.185333</td>\n",
       "    </tr>\n",
       "  </tbody>\n",
       "</table>\n",
       "<p>2214 rows × 3 columns</p>\n",
       "</div>"
      ],
      "text/plain": [
       "                  AAPL       MSFT        XOM\n",
       "2003-01-02    7.400000  21.110000  29.220000\n",
       "2003-01-03    7.425000  21.125000  29.230000\n",
       "2003-01-06    7.433333  21.256667  29.473333\n",
       "2003-01-07    7.432500  21.425000  29.342500\n",
       "2003-01-08    7.402000  21.402000  29.240000\n",
       "2003-01-09    7.391667  21.490000  29.273333\n",
       "2003-01-10    7.387143  21.558571  29.238571\n",
       "2003-01-13    7.378750  21.633750  29.197500\n",
       "2003-01-14    7.370000  21.717778  29.194444\n",
       "2003-01-15    7.355000  21.757000  29.152000\n",
       "2003-01-16    7.350909  21.756364  29.129091\n",
       "2003-01-17    7.325833  21.628333  29.085000\n",
       "2003-01-21    7.301538  21.516154  28.996923\n",
       "2003-01-22    7.266154  21.433846  28.870769\n",
       "2003-01-23    7.238462  21.387692  28.738462\n",
       "2003-01-24    7.214286  21.259286  28.609286\n",
       "2003-01-27    7.168462  21.038462  28.294615\n",
       "2003-01-28    7.169231  20.874615  28.146154\n",
       "2003-01-29    7.179231  20.696154  28.026154\n",
       "2003-01-30    7.163846  20.463846  27.898462\n",
       "2003-01-31    7.165000  20.334286  27.915000\n",
       "2003-02-03    7.155385  19.939231  27.788462\n",
       "2003-02-04    7.161538  19.668462  27.769231\n",
       "2003-02-05    7.154615  19.414615  27.708462\n",
       "2003-02-06    7.167692  19.292308  27.652308\n",
       "2003-02-07    7.160714  19.221429  27.652857\n",
       "2003-02-10    7.172857  19.110714  27.647857\n",
       "2003-02-11    7.190000  18.982857  27.654286\n",
       "2003-02-12    7.197857  18.819286  27.625714\n",
       "2003-02-13    7.224286  18.738571  27.664286\n",
       "...                ...        ...        ...\n",
       "2011-09-02  376.653333  25.251333  72.810667\n",
       "2011-09-06  375.785385  25.256154  72.412308\n",
       "2011-09-07  377.160769  25.358462  72.620769\n",
       "2011-09-08  379.323077  25.525385  72.853077\n",
       "2011-09-09  379.191429  25.540714  72.721429\n",
       "2011-09-12  381.429231  25.750769  72.776923\n",
       "2011-09-13  382.078462  25.838462  72.631538\n",
       "2011-09-14  383.276923  25.986923  72.698462\n",
       "2011-09-15  383.998462  26.120769  72.803846\n",
       "2011-09-16  385.177143  26.192143  72.928571\n",
       "2011-09-19  386.473077  26.294615  72.820769\n",
       "2011-09-20  388.674615  26.323846  72.820000\n",
       "2011-09-21  391.067692  26.306923  72.703077\n",
       "2011-09-22  393.203846  26.250000  72.480000\n",
       "2011-09-23  393.996429  26.165000  72.253571\n",
       "2011-09-26  395.670000  26.160000  72.294286\n",
       "2011-09-27  396.765000  26.136429  72.241429\n",
       "2011-09-28  397.684286  26.090714  72.187857\n",
       "2011-09-29  398.619286  26.070000  72.392857\n",
       "2011-09-30  397.466000  25.991333  72.408667\n",
       "2011-10-03  398.002143  25.890714  72.413571\n",
       "2011-10-04  396.802143  25.807857  72.427143\n",
       "2011-10-05  395.751429  25.729286  72.422857\n",
       "2011-10-06  394.099286  25.673571  72.375714\n",
       "2011-10-07  392.479333  25.712000  72.454667\n",
       "2011-10-10  389.351429  25.602143  72.527857\n",
       "2011-10-11  388.505000  25.674286  72.835000\n",
       "2011-10-12  388.531429  25.810000  73.400714\n",
       "2011-10-13  388.826429  25.961429  73.905000\n",
       "2011-10-14  391.038000  26.048667  74.185333\n",
       "\n",
       "[2214 rows x 3 columns]"
      ]
     },
     "execution_count": 233,
     "metadata": {},
     "output_type": "execute_result"
    }
   ],
   "source": [
    " close_px.rolling('20D').mean()"
   ]
  },
  {
   "cell_type": "code",
   "execution_count": 235,
   "metadata": {},
   "outputs": [],
   "source": [
    "import matplotlib as plt"
   ]
  },
  {
   "cell_type": "code",
   "execution_count": 236,
   "metadata": {},
   "outputs": [
    {
     "ename": "TypeError",
     "evalue": "'module' object is not callable",
     "output_type": "error",
     "traceback": [
      "\u001b[1;31m---------------------------------------------------------------------------\u001b[0m",
      "\u001b[1;31mTypeError\u001b[0m                                 Traceback (most recent call last)",
      "\u001b[1;32m<ipython-input-236-b2aa4c14a1ca>\u001b[0m in \u001b[0;36m<module>\u001b[1;34m\u001b[0m\n\u001b[0;32m      4\u001b[0m \u001b[0mma60\u001b[0m\u001b[1;33m.\u001b[0m\u001b[0mplot\u001b[0m\u001b[1;33m(\u001b[0m\u001b[0mstyle\u001b[0m\u001b[1;33m=\u001b[0m\u001b[1;34m'k--'\u001b[0m\u001b[1;33m,\u001b[0m \u001b[0mlabel\u001b[0m\u001b[1;33m=\u001b[0m\u001b[1;34m'Simple MA'\u001b[0m\u001b[1;33m)\u001b[0m\u001b[1;33m\u001b[0m\u001b[1;33m\u001b[0m\u001b[0m\n\u001b[0;32m      5\u001b[0m \u001b[0mewma60\u001b[0m\u001b[1;33m.\u001b[0m\u001b[0mplot\u001b[0m\u001b[1;33m(\u001b[0m\u001b[0mstyle\u001b[0m\u001b[1;33m=\u001b[0m\u001b[1;34m'k-'\u001b[0m\u001b[1;33m,\u001b[0m \u001b[0mlabel\u001b[0m\u001b[1;33m=\u001b[0m\u001b[1;34m'EW MA'\u001b[0m\u001b[1;33m)\u001b[0m\u001b[1;33m\u001b[0m\u001b[1;33m\u001b[0m\u001b[0m\n\u001b[1;32m----> 6\u001b[1;33m \u001b[0mplt\u001b[0m\u001b[1;33m.\u001b[0m\u001b[0mlegend\u001b[0m\u001b[1;33m(\u001b[0m\u001b[1;33m)\u001b[0m\u001b[1;33m\u001b[0m\u001b[1;33m\u001b[0m\u001b[0m\n\u001b[0m",
      "\u001b[1;31mTypeError\u001b[0m: 'module' object is not callable"
     ]
    },
    {
     "data": {
      "image/png": "[encoded data removed]",
      "text/plain": [
       "<Figure size 432x288 with 1 Axes>"
      ]
     },
     "metadata": {
      "needs_background": "light"
     },
     "output_type": "display_data"
    }
   ],
   "source": [
    "aapl_px = close_px.AAPL['2006':'2007']\n",
    "ma60 = aapl_px.rolling(30, min_periods=20).mean()\n",
    "ewma60 = aapl_px.ewm(span=30).mean()\n",
    "ma60.plot(style='k--', label='Simple MA')\n",
    "ewma60.plot(style='k-', label='EW MA')\n",
    "plt.legend()"
   ]
  },
  {
   "cell_type": "markdown",
   "metadata": {},
   "source": [
    "### Exponentially Weighted Functions"
   ]
  },
  {
   "cell_type": "markdown",
   "metadata": {},
   "source": [
    "### User-Defined Moving Window Functions"
   ]
  },
  {
   "cell_type": "markdown",
   "metadata": {},
   "source": [
    "#### Might be useful for me in doing oos, check page 361"
   ]
  },
  {
   "cell_type": "code",
   "execution_count": null,
   "metadata": {},
   "outputs": [],
   "source": []
  }
 ],
 "metadata": {
  "kernelspec": {
   "display_name": "Python 3",
   "language": "python",
   "name": "python3"
  },
  "language_info": {
   "codemirror_mode": {
    "name": "ipython",
    "version": 3
   },
   "file_extension": ".py",
   "mimetype": "text/x-python",
   "name": "python",
   "nbconvert_exporter": "python",
   "pygments_lexer": "ipython3",
   "version": "3.7.3"
  }
 },
 "nbformat": 4,
 "nbformat_minor": 2
}
